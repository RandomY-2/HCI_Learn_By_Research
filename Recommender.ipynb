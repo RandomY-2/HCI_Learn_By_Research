{
  "nbformat": 4,
  "nbformat_minor": 0,
  "metadata": {
    "colab": {
      "name": "Recommender.ipynb",
      "provenance": []
    },
    "kernelspec": {
      "name": "python3",
      "display_name": "Python 3"
    },
    "language_info": {
      "name": "python"
    }
  },
  "cells": [
    {
      "cell_type": "code",
      "metadata": {
        "colab": {
          "base_uri": "https://localhost:8080/"
        },
        "id": "RkTf5OpdQF1w",
        "outputId": "4cb34e38-c709-40d3-efd4-3de5d0dbc493"
      },
      "source": [
        "!pip install beautifulsoup4 lxml requests"
      ],
      "execution_count": 1,
      "outputs": [
        {
          "output_type": "stream",
          "name": "stdout",
          "text": [
            "Requirement already satisfied: beautifulsoup4 in /usr/local/lib/python3.7/dist-packages (4.6.3)\n",
            "Requirement already satisfied: lxml in /usr/local/lib/python3.7/dist-packages (4.2.6)\n",
            "Requirement already satisfied: requests in /usr/local/lib/python3.7/dist-packages (2.23.0)\n",
            "Requirement already satisfied: certifi>=2017.4.17 in /usr/local/lib/python3.7/dist-packages (from requests) (2021.5.30)\n",
            "Requirement already satisfied: idna<3,>=2.5 in /usr/local/lib/python3.7/dist-packages (from requests) (2.10)\n",
            "Requirement already satisfied: chardet<4,>=3.0.2 in /usr/local/lib/python3.7/dist-packages (from requests) (3.0.4)\n",
            "Requirement already satisfied: urllib3!=1.25.0,!=1.25.1,<1.26,>=1.21.1 in /usr/local/lib/python3.7/dist-packages (from requests) (1.24.3)\n"
          ]
        }
      ]
    },
    {
      "cell_type": "code",
      "metadata": {
        "id": "8Ai2hLMDu9tA"
      },
      "source": [
        "import pandas as pd\n",
        "import numpy as np\n",
        "from sklearn.feature_extraction.text import CountVectorizer\n",
        "from sklearn.metrics.pairwise import cosine_similarity\n",
        "\n",
        "from bs4 import BeautifulSoup\n",
        "import requests\n",
        "import time\n",
        "import os\n"
      ],
      "execution_count": 2,
      "outputs": []
    },
    {
      "cell_type": "code",
      "metadata": {
        "id": "Ww8DpPV1vyVx"
      },
      "source": [
        "def get_title_from_index(df, index):\n",
        "\treturn df[df.index == index][\"title\"].values[0]\n",
        "\n",
        "def get_index_from_title(df, title):\n",
        "\treturn df[df.title.str.lower() == title][\"index\"].values[0]"
      ],
      "execution_count": 3,
      "outputs": []
    },
    {
      "cell_type": "code",
      "metadata": {
        "colab": {
          "base_uri": "https://localhost:8080/",
          "height": 1000
        },
        "id": "cnoO0XIrzOSO",
        "outputId": "91fbdec0-b1ac-4e4d-9abb-743b36bbb779"
      },
      "source": [
        "movie_data = pd.read_csv('movie_dataset.csv')\n",
        "print(movie_data.info())\n",
        "movie_data.head()"
      ],
      "execution_count": 4,
      "outputs": [
        {
          "output_type": "stream",
          "name": "stdout",
          "text": [
            "<class 'pandas.core.frame.DataFrame'>\n",
            "RangeIndex: 4803 entries, 0 to 4802\n",
            "Data columns (total 24 columns):\n",
            " #   Column                Non-Null Count  Dtype  \n",
            "---  ------                --------------  -----  \n",
            " 0   index                 4803 non-null   int64  \n",
            " 1   budget                4803 non-null   int64  \n",
            " 2   genres                4775 non-null   object \n",
            " 3   homepage              1712 non-null   object \n",
            " 4   id                    4803 non-null   int64  \n",
            " 5   keywords              4391 non-null   object \n",
            " 6   original_language     4803 non-null   object \n",
            " 7   original_title        4803 non-null   object \n",
            " 8   overview              4800 non-null   object \n",
            " 9   popularity            4803 non-null   float64\n",
            " 10  production_companies  4803 non-null   object \n",
            " 11  production_countries  4803 non-null   object \n",
            " 12  release_date          4802 non-null   object \n",
            " 13  revenue               4803 non-null   int64  \n",
            " 14  runtime               4801 non-null   float64\n",
            " 15  spoken_languages      4803 non-null   object \n",
            " 16  status                4803 non-null   object \n",
            " 17  tagline               3959 non-null   object \n",
            " 18  title                 4803 non-null   object \n",
            " 19  vote_average          4803 non-null   float64\n",
            " 20  vote_count            4803 non-null   int64  \n",
            " 21  cast                  4760 non-null   object \n",
            " 22  crew                  4803 non-null   object \n",
            " 23  director              4773 non-null   object \n",
            "dtypes: float64(3), int64(5), object(16)\n",
            "memory usage: 900.7+ KB\n",
            "None\n"
          ]
        },
        {
          "output_type": "execute_result",
          "data": {
            "text/html": [
              "<div>\n",
              "<style scoped>\n",
              "    .dataframe tbody tr th:only-of-type {\n",
              "        vertical-align: middle;\n",
              "    }\n",
              "\n",
              "    .dataframe tbody tr th {\n",
              "        vertical-align: top;\n",
              "    }\n",
              "\n",
              "    .dataframe thead th {\n",
              "        text-align: right;\n",
              "    }\n",
              "</style>\n",
              "<table border=\"1\" class=\"dataframe\">\n",
              "  <thead>\n",
              "    <tr style=\"text-align: right;\">\n",
              "      <th></th>\n",
              "      <th>index</th>\n",
              "      <th>budget</th>\n",
              "      <th>genres</th>\n",
              "      <th>homepage</th>\n",
              "      <th>id</th>\n",
              "      <th>keywords</th>\n",
              "      <th>original_language</th>\n",
              "      <th>original_title</th>\n",
              "      <th>overview</th>\n",
              "      <th>popularity</th>\n",
              "      <th>production_companies</th>\n",
              "      <th>production_countries</th>\n",
              "      <th>release_date</th>\n",
              "      <th>revenue</th>\n",
              "      <th>runtime</th>\n",
              "      <th>spoken_languages</th>\n",
              "      <th>status</th>\n",
              "      <th>tagline</th>\n",
              "      <th>title</th>\n",
              "      <th>vote_average</th>\n",
              "      <th>vote_count</th>\n",
              "      <th>cast</th>\n",
              "      <th>crew</th>\n",
              "      <th>director</th>\n",
              "    </tr>\n",
              "  </thead>\n",
              "  <tbody>\n",
              "    <tr>\n",
              "      <th>0</th>\n",
              "      <td>0</td>\n",
              "      <td>237000000</td>\n",
              "      <td>Action Adventure Fantasy Science Fiction</td>\n",
              "      <td>http://www.avatarmovie.com/</td>\n",
              "      <td>19995</td>\n",
              "      <td>culture clash future space war space colony so...</td>\n",
              "      <td>en</td>\n",
              "      <td>Avatar</td>\n",
              "      <td>In the 22nd century, a paraplegic Marine is di...</td>\n",
              "      <td>150.437577</td>\n",
              "      <td>[{\"name\": \"Ingenious Film Partners\", \"id\": 289...</td>\n",
              "      <td>[{\"iso_3166_1\": \"US\", \"name\": \"United States o...</td>\n",
              "      <td>2009-12-10</td>\n",
              "      <td>2787965087</td>\n",
              "      <td>162.0</td>\n",
              "      <td>[{\"iso_639_1\": \"en\", \"name\": \"English\"}, {\"iso...</td>\n",
              "      <td>Released</td>\n",
              "      <td>Enter the World of Pandora.</td>\n",
              "      <td>Avatar</td>\n",
              "      <td>7.2</td>\n",
              "      <td>11800</td>\n",
              "      <td>Sam Worthington Zoe Saldana Sigourney Weaver S...</td>\n",
              "      <td>[{'name': 'Stephen E. Rivkin', 'gender': 0, 'd...</td>\n",
              "      <td>James Cameron</td>\n",
              "    </tr>\n",
              "    <tr>\n",
              "      <th>1</th>\n",
              "      <td>1</td>\n",
              "      <td>300000000</td>\n",
              "      <td>Adventure Fantasy Action</td>\n",
              "      <td>http://disney.go.com/disneypictures/pirates/</td>\n",
              "      <td>285</td>\n",
              "      <td>ocean drug abuse exotic island east india trad...</td>\n",
              "      <td>en</td>\n",
              "      <td>Pirates of the Caribbean: At World's End</td>\n",
              "      <td>Captain Barbossa, long believed to be dead, ha...</td>\n",
              "      <td>139.082615</td>\n",
              "      <td>[{\"name\": \"Walt Disney Pictures\", \"id\": 2}, {\"...</td>\n",
              "      <td>[{\"iso_3166_1\": \"US\", \"name\": \"United States o...</td>\n",
              "      <td>2007-05-19</td>\n",
              "      <td>961000000</td>\n",
              "      <td>169.0</td>\n",
              "      <td>[{\"iso_639_1\": \"en\", \"name\": \"English\"}]</td>\n",
              "      <td>Released</td>\n",
              "      <td>At the end of the world, the adventure begins.</td>\n",
              "      <td>Pirates of the Caribbean: At World's End</td>\n",
              "      <td>6.9</td>\n",
              "      <td>4500</td>\n",
              "      <td>Johnny Depp Orlando Bloom Keira Knightley Stel...</td>\n",
              "      <td>[{'name': 'Dariusz Wolski', 'gender': 2, 'depa...</td>\n",
              "      <td>Gore Verbinski</td>\n",
              "    </tr>\n",
              "    <tr>\n",
              "      <th>2</th>\n",
              "      <td>2</td>\n",
              "      <td>245000000</td>\n",
              "      <td>Action Adventure Crime</td>\n",
              "      <td>http://www.sonypictures.com/movies/spectre/</td>\n",
              "      <td>206647</td>\n",
              "      <td>spy based on novel secret agent sequel mi6</td>\n",
              "      <td>en</td>\n",
              "      <td>Spectre</td>\n",
              "      <td>A cryptic message from Bond’s past sends him o...</td>\n",
              "      <td>107.376788</td>\n",
              "      <td>[{\"name\": \"Columbia Pictures\", \"id\": 5}, {\"nam...</td>\n",
              "      <td>[{\"iso_3166_1\": \"GB\", \"name\": \"United Kingdom\"...</td>\n",
              "      <td>2015-10-26</td>\n",
              "      <td>880674609</td>\n",
              "      <td>148.0</td>\n",
              "      <td>[{\"iso_639_1\": \"fr\", \"name\": \"Fran\\u00e7ais\"},...</td>\n",
              "      <td>Released</td>\n",
              "      <td>A Plan No One Escapes</td>\n",
              "      <td>Spectre</td>\n",
              "      <td>6.3</td>\n",
              "      <td>4466</td>\n",
              "      <td>Daniel Craig Christoph Waltz L\\u00e9a Seydoux ...</td>\n",
              "      <td>[{'name': 'Thomas Newman', 'gender': 2, 'depar...</td>\n",
              "      <td>Sam Mendes</td>\n",
              "    </tr>\n",
              "    <tr>\n",
              "      <th>3</th>\n",
              "      <td>3</td>\n",
              "      <td>250000000</td>\n",
              "      <td>Action Crime Drama Thriller</td>\n",
              "      <td>http://www.thedarkknightrises.com/</td>\n",
              "      <td>49026</td>\n",
              "      <td>dc comics crime fighter terrorist secret ident...</td>\n",
              "      <td>en</td>\n",
              "      <td>The Dark Knight Rises</td>\n",
              "      <td>Following the death of District Attorney Harve...</td>\n",
              "      <td>112.312950</td>\n",
              "      <td>[{\"name\": \"Legendary Pictures\", \"id\": 923}, {\"...</td>\n",
              "      <td>[{\"iso_3166_1\": \"US\", \"name\": \"United States o...</td>\n",
              "      <td>2012-07-16</td>\n",
              "      <td>1084939099</td>\n",
              "      <td>165.0</td>\n",
              "      <td>[{\"iso_639_1\": \"en\", \"name\": \"English\"}]</td>\n",
              "      <td>Released</td>\n",
              "      <td>The Legend Ends</td>\n",
              "      <td>The Dark Knight Rises</td>\n",
              "      <td>7.6</td>\n",
              "      <td>9106</td>\n",
              "      <td>Christian Bale Michael Caine Gary Oldman Anne ...</td>\n",
              "      <td>[{'name': 'Hans Zimmer', 'gender': 2, 'departm...</td>\n",
              "      <td>Christopher Nolan</td>\n",
              "    </tr>\n",
              "    <tr>\n",
              "      <th>4</th>\n",
              "      <td>4</td>\n",
              "      <td>260000000</td>\n",
              "      <td>Action Adventure Science Fiction</td>\n",
              "      <td>http://movies.disney.com/john-carter</td>\n",
              "      <td>49529</td>\n",
              "      <td>based on novel mars medallion space travel pri...</td>\n",
              "      <td>en</td>\n",
              "      <td>John Carter</td>\n",
              "      <td>John Carter is a war-weary, former military ca...</td>\n",
              "      <td>43.926995</td>\n",
              "      <td>[{\"name\": \"Walt Disney Pictures\", \"id\": 2}]</td>\n",
              "      <td>[{\"iso_3166_1\": \"US\", \"name\": \"United States o...</td>\n",
              "      <td>2012-03-07</td>\n",
              "      <td>284139100</td>\n",
              "      <td>132.0</td>\n",
              "      <td>[{\"iso_639_1\": \"en\", \"name\": \"English\"}]</td>\n",
              "      <td>Released</td>\n",
              "      <td>Lost in our world, found in another.</td>\n",
              "      <td>John Carter</td>\n",
              "      <td>6.1</td>\n",
              "      <td>2124</td>\n",
              "      <td>Taylor Kitsch Lynn Collins Samantha Morton Wil...</td>\n",
              "      <td>[{'name': 'Andrew Stanton', 'gender': 2, 'depa...</td>\n",
              "      <td>Andrew Stanton</td>\n",
              "    </tr>\n",
              "  </tbody>\n",
              "</table>\n",
              "</div>"
            ],
            "text/plain": [
              "   index  ...           director\n",
              "0      0  ...      James Cameron\n",
              "1      1  ...     Gore Verbinski\n",
              "2      2  ...         Sam Mendes\n",
              "3      3  ...  Christopher Nolan\n",
              "4      4  ...     Andrew Stanton\n",
              "\n",
              "[5 rows x 24 columns]"
            ]
          },
          "metadata": {},
          "execution_count": 4
        }
      ]
    },
    {
      "cell_type": "code",
      "metadata": {
        "id": "0rHd81K5v0xj"
      },
      "source": [
        "features = ['keywords', 'cast', 'genres', 'director']\n",
        "\n",
        "for feature in features:\n",
        "  movie_data[feature] = movie_data[feature].fillna('')\n",
        "\n",
        "movie_data['combine_sentence'] = movie_data['keywords'] + ' ' + movie_data['cast'] + ' ' + movie_data['genres'] + ' ' + movie_data['director']\n",
        "\n",
        "cv = CountVectorizer()\n",
        "count_matrix = cv.fit_transform(movie_data['combine_sentence'])"
      ],
      "execution_count": 5,
      "outputs": []
    },
    {
      "cell_type": "code",
      "metadata": {
        "colab": {
          "base_uri": "https://localhost:8080/"
        },
        "id": "3UqqJ5il9ECJ",
        "outputId": "1b046ada-9898-4b3f-9113-a59b641d9091"
      },
      "source": [
        "test = ['London London Paris', 'Paris Paris London', 'LA Paris']\n",
        "test_matrix = cv.fit_transform(test)\n",
        "print(test_matrix.toarray())"
      ],
      "execution_count": 6,
      "outputs": [
        {
          "output_type": "stream",
          "name": "stdout",
          "text": [
            "[[0 2 1]\n",
            " [0 1 2]\n",
            " [1 0 1]]\n"
          ]
        }
      ]
    },
    {
      "cell_type": "code",
      "metadata": {
        "id": "6cYL1avVz_N9"
      },
      "source": [
        "cosine_sim = cosine_similarity(count_matrix)"
      ],
      "execution_count": 7,
      "outputs": []
    },
    {
      "cell_type": "code",
      "metadata": {
        "id": "Cgpxf5Xev3qo",
        "colab": {
          "base_uri": "https://localhost:8080/"
        },
        "outputId": "bdc43b65-b35d-4ae3-8154-ef98e846763b"
      },
      "source": [
        "movie_recommendations = []\n",
        "\n",
        "print(\"Enter a movie you like: \")\n",
        "movie_user_likes = input(\"\")\n",
        "movie_user_likes = movie_user_likes.lower()\n",
        "movie_index = get_index_from_title(movie_data, movie_user_likes)\n",
        "\n",
        "similar_movies = list(enumerate(cosine_sim[movie_index]))\n",
        "sorted_list = sorted(similar_movies, key=lambda x: x[1], reverse=True)\n",
        "\n",
        "print()\n",
        "print(\"Perhaps you like these movies: \")\n",
        "i = 0\n",
        "for movie in sorted_list:\n",
        "  if get_title_from_index(movie_data, movie[0]).lower() != movie_user_likes:\n",
        "    movie_recommendations.append(get_title_from_index(movie_data, movie[0]))\n",
        "    print(get_title_from_index(movie_data, movie[0]))\n",
        "  i = i + 1\n",
        "  if i > 10:\n",
        "    break\n",
        "print(\"\")"
      ],
      "execution_count": 8,
      "outputs": [
        {
          "output_type": "stream",
          "name": "stdout",
          "text": [
            "Enter a movie you like: \n",
            "Alien\n",
            "\n",
            "Perhaps you like these movies: \n",
            "Aliens\n",
            "Alien³\n",
            "Moonraker\n",
            "Planet of the Apes\n",
            "Avatar\n",
            "Gravity\n",
            "Jason X\n",
            "The Helix... Loaded\n",
            "Alien: Resurrection\n",
            "The Thing\n",
            "\n"
          ]
        }
      ]
    },
    {
      "cell_type": "code",
      "metadata": {
        "id": "l1t6hYH3IMb4"
      },
      "source": [
        "def get_zhihu_urls(movie):\n",
        "  response = requests.get('https://www.google.com/search?q=' + movie + '+site%3Azhihu.com&oq=' + movie + '+site%3Azhihu.com&aqs=chrome..69i57.6845j0j7&sourceid=chrome&ie=UTF-8').text\n",
        "  soup = BeautifulSoup(response, 'lxml')\n",
        "  \n",
        "  zhihu_urls = []\n",
        "  for a in soup.find_all('a', href=True):\n",
        "    if ('zhihu.com/question/' in a['href']) and \\\n",
        "       ('img' not in a['href']) and \\\n",
        "       ('answer' not in a['href']):\n",
        "      zhihu_url = a['href'][7:].partition('&sa')[0]\n",
        "      zhihu_urls.append(zhihu_url)\n",
        "\n",
        "  return zhihu_urls"
      ],
      "execution_count": 67,
      "outputs": []
    },
    {
      "cell_type": "code",
      "metadata": {
        "id": "Ilv0K7EzfvJk"
      },
      "source": [
        "def get_zhihu_question_answers(zhihu_question_id, answer_list):\n",
        "  headers = {\n",
        "    'accept': 'text/html,application/xhtml+xml,application/xml;q=0.9,image/webp,image/apng,*/*;q=0.8',\n",
        "    'user-agent': 'Mozilla/5.0 (Windows NT 10.0; WOW64) AppleWebKit/537.36 (KHTML, like Gecko) Chrome/68.0.3440.106 Safari/537.36',\n",
        "  }\n",
        "\n",
        "  answer_api = 'https://www.zhihu.com/api/v4/questions/' + zhihu_question_id + '/answers?include=content&limit=5&offset=5&platform=desktop&sort_by=default'\n",
        "  \n",
        "  response = requests.get(answer_api, headers=headers)\n",
        "\n",
        "  if len(response.json()['data']) == 0:\n",
        "    return\n",
        "\n",
        "  for answer in response.json()['data']:\n",
        "    answer_list.append(answer['content'])"
      ],
      "execution_count": 109,
      "outputs": []
    },
    {
      "cell_type": "code",
      "metadata": {
        "colab": {
          "base_uri": "https://localhost:8080/"
        },
        "id": "cD6BxgVBdOlq",
        "outputId": "8b3a40a3-3552-490a-b8bb-36d13222849a"
      },
      "source": [
        "test_zhihu_urls = get_zhihu_urls('Dune')\n",
        "\n",
        "answer_list = []\n",
        "for url in test_zhihu_urls:\n",
        "  qid = url.partition('/question/')[2]\n",
        "  get_zhihu_question_answers(qid, answer_list)\n",
        "\n",
        "for answer in answer_list:\n",
        "  print(answer)\n",
        "\n",
        "f = open('test.html','w')\n",
        "\n",
        "message = \"\"\"<html>\n",
        "<head></head>\n",
        "<body>\"\"\" + answer_list[0] + \"\"\"</body>\n",
        "</html>\"\"\"\n",
        "\n",
        "f.write(message)\n",
        "f.close()"
      ],
      "execution_count": 112,
      "outputs": [
        {
          "output_type": "stream",
          "name": "stdout",
          "text": [
            "<p>谈一谈个人的粗浅看法。</p><p>丹尼斯维伦纽瓦的电影，有几个特点。它们让他成为了电影版《沙丘》可能是最佳的导演选择。它具备《沙丘》的诸多要素，同时也是维伦纽瓦自己的《沙丘》。它寄予了科幻电影“似乎必备”的宏大场景、美术设定，但却不是为了类型化目的，而是实现维伦纽瓦的作者表达。它是科幻电影，但却绝对不够商业。</p><p>维伦纽瓦非常重视环境与人物的呼应关系，并以这种呼应关系作为对人物内心变化的持续性表达。由此，也就诞生了第二个特点：围绕人物内心世界的主题。无论是他的题材设定有多宏大，剧情逻辑有多复杂，涉及知识有多硬核，内在却永远是指向人物内心描写的。</p><figure data-size=\"normal\"><noscript><img src=\"https://pic2.zhimg.com/50/v2-33f185b8b4533cd605e4254897697d50_720w.jpg?source=1940ef5c\" data-rawwidth=\"690\" data-rawheight=\"966\" data-size=\"normal\" data-default-watermark-src=\"https://pic2.zhimg.com/50/v2-f7bb56c850758023d9d40c83d77d922f_720w.jpg?source=1940ef5c\" class=\"origin_image zh-lightbox-thumb\" width=\"690\" data-original=\"https://pica.zhimg.com/v2-33f185b8b4533cd605e4254897697d50_r.jpg?source=1940ef5c\"/></noscript><img src=\"data:image/svg+xml;utf8,&lt;svg xmlns=&#39;http://www.w3.org/2000/svg&#39; width=&#39;690&#39; height=&#39;966&#39;&gt;&lt;/svg&gt;\" data-rawwidth=\"690\" data-rawheight=\"966\" data-size=\"normal\" data-default-watermark-src=\"https://pic2.zhimg.com/50/v2-f7bb56c850758023d9d40c83d77d922f_720w.jpg?source=1940ef5c\" class=\"origin_image zh-lightbox-thumb lazy\" width=\"690\" data-original=\"https://pica.zhimg.com/v2-33f185b8b4533cd605e4254897697d50_r.jpg?source=1940ef5c\" data-actualsrc=\"https://pic2.zhimg.com/50/v2-33f185b8b4533cd605e4254897697d50_720w.jpg?source=1940ef5c\"/></figure><p>在《沙丘》之中，我们就可以看到一种近乎于“工具人”的反派设置，动机干瘪，为反而反，难言及格。相关环节的削弱，便换来了电影想突出的东西：并非客观世界，而是主角内心。</p><p>落实到执行环节，当代化环境到原始化环境的渐变——以一个科技、经济高度发达的文明社会作为主背景，烘托人物在初始时立足于此的心理状态；随后，文明化社会与原始感社会的环境开始交替出现，对应人物在剧情层面的心理矛盾；最后，环境彻底被原始感的氛围占据，人物也完全失去了对当代文明的信任。因此，来自当代、甚至未来的高度发达环境，成为了维伦纽瓦电影里的重要特征。</p><p>由此，维伦纽瓦也就可以消化《沙丘》了。他灵活地消化了原作中的政治斗争、集权文明、荒野自然、救世之主，用繁多的远景、壮观的环境、宏大的音乐、反高潮的叙事，建立起了围绕自己主题的表达。他还原了宏大的场景，用imax的效果对其加成，制造了视觉的奇观，但又不仅仅停留于此，而是将其化作了主题表达的重要手法。</p><p>在一定程度上，这部电影依然是原来的《沙丘》，但同样，它也是维伦纽瓦的《沙丘》。</p><figure data-size=\"normal\"><noscript><img src=\"https://pica.zhimg.com/50/v2-9788ab507e11c30aec15d3b674ca6edc_720w.jpg?source=1940ef5c\" data-rawwidth=\"640\" data-rawheight=\"384\" data-size=\"normal\" data-default-watermark-src=\"https://pica.zhimg.com/50/v2-355814820f9157859cde46a653eec987_720w.jpg?source=1940ef5c\" class=\"origin_image zh-lightbox-thumb\" width=\"640\" data-original=\"https://pica.zhimg.com/v2-9788ab507e11c30aec15d3b674ca6edc_r.jpg?source=1940ef5c\"/></noscript><img src=\"data:image/svg+xml;utf8,&lt;svg xmlns=&#39;http://www.w3.org/2000/svg&#39; width=&#39;640&#39; height=&#39;384&#39;&gt;&lt;/svg&gt;\" data-rawwidth=\"640\" data-rawheight=\"384\" data-size=\"normal\" data-default-watermark-src=\"https://pica.zhimg.com/50/v2-355814820f9157859cde46a653eec987_720w.jpg?source=1940ef5c\" class=\"origin_image zh-lightbox-thumb lazy\" width=\"640\" data-original=\"https://pica.zhimg.com/v2-9788ab507e11c30aec15d3b674ca6edc_r.jpg?source=1940ef5c\" data-actualsrc=\"https://pica.zhimg.com/50/v2-9788ab507e11c30aec15d3b674ca6edc_720w.jpg?source=1940ef5c\"/></figure><p>保罗围绕自己身份的个人发展，则同样发自于对压迫的反抗、对自由的追求，发自于自己的情感内心。首先，从一出生开始，他便被赋予预知未来的救世主身份，这让他的人生似乎已经被确定，必然要成为命运的执行者，便意味着他对选择自由的失去。一度对自己身份的抗拒，便来自于“不愿被安排人生”的自由追求。并且，他也同样能感受到家族被皇帝政治层面的强权压迫---最后摧毁家族的，正是皇帝统治下的高度政治化社会体系，利用的是迫使保罗家族不得不服从命令的政治权力，在这种政治力量下，处于下属地位的家族，只能被动受迫。</p><p>因此，保罗最初对救世主身份的反抗，是他对人生自由的追求，随后对救世主能力的接受，也并非对既定宿命的被动接受，而是衍生出了全新的形态。</p><p>围绕“主角的救世主身份”这一核心内容，电影展开了细致的表现，这也是作品里非常值得注意的一环。保罗抗拒的、接受的“救世主”，并非完全统一。这当中包含了他的觉悟、成长过程，始终与“反抗压迫既定，争取选择自由”的情感化内心高度绑定。与怀有同一情感的弗雷曼实现共鸣，在结尾并肩而立，以人性情感对抗帝国体制，以代表原始的黄沙环境对抗象征冰冷的集权社会。围绕“救世主”身份的抗拒到拥抱，以人性（发自于自身情感的主动接受身份）对抗非人性（前期对救世主宿命的家族指定，随后对保罗家族与弗雷曼的集权政治压迫），正是作品的主线。</p><p>发达的集权化政治文明，用压迫给予弗雷曼与保罗家族以必然的宿命，而由此生出的反抗体制，也承载以与“发达文明“相反的“原始世界”——沙漠、自然，是弗雷曼的活动场所。对自由的夺还，必然以对发达文明的破坏为方式。由“文明对撞”的场景手法，向人物内心的主线做引导。在这部电影里，维伦纽瓦将他烂熟于心的模式，很好地运用在了作品的表达里。</p><figure data-size=\"normal\"><noscript><img src=\"https://pic3.zhimg.com/50/v2-7a995e95ba4b7763760f704839da491f_720w.jpg?source=1940ef5c\" data-rawwidth=\"640\" data-rawheight=\"971\" data-size=\"normal\" data-default-watermark-src=\"https://pica.zhimg.com/50/v2-fd44126707a6c11545173598cdd45512_720w.jpg?source=1940ef5c\" class=\"origin_image zh-lightbox-thumb\" width=\"640\" data-original=\"https://pic2.zhimg.com/v2-7a995e95ba4b7763760f704839da491f_r.jpg?source=1940ef5c\"/></noscript><img src=\"data:image/svg+xml;utf8,&lt;svg xmlns=&#39;http://www.w3.org/2000/svg&#39; width=&#39;640&#39; height=&#39;971&#39;&gt;&lt;/svg&gt;\" data-rawwidth=\"640\" data-rawheight=\"971\" data-size=\"normal\" data-default-watermark-src=\"https://pica.zhimg.com/50/v2-fd44126707a6c11545173598cdd45512_720w.jpg?source=1940ef5c\" class=\"origin_image zh-lightbox-thumb lazy\" width=\"640\" data-original=\"https://pic2.zhimg.com/v2-7a995e95ba4b7763760f704839da491f_r.jpg?source=1940ef5c\" data-actualsrc=\"https://pic3.zhimg.com/50/v2-7a995e95ba4b7763760f704839da491f_720w.jpg?source=1940ef5c\"/></figure><p>电影开头，维伦纽瓦就开宗明义地定调完毕，并在这种定调的设计中，顺便完成了对原作庞大世界观背景的简要缩略叙述。先是一个保罗的梦境。发达的宇宙飞船与黄沙风起的自然环境，形成了强烈的对比，也引出了随后二者的对抗，飞船爆炸、沙漠族人牺牲。场景环境对抗的手法，弗雷曼在力量不对等情况下、对发达文明的坚定反击、结果不佳，都体现了出来。随后，在皇帝将军队撤出后的念白，“下一个侵略者会什么时候到来？”则加入了反抗的持续性——他们所在的故乡被皇帝瞄准，势必让他们不断地在被侵略的反抗中轮回，需要一个“救世主”。</p><p>这个序幕，非常好地将保罗的未来做了定义。他对救世主能力的接受，与弗雷曼的会合，并非对家族要求的被动遵从，而是发自于自己内心情感的主动行为。这个微妙的转变，正对应了保罗从被动到主动的变化。他的身份，在最后变成了一个微妙的存在：于弗雷曼而言，确实是他们的救世主，但却又不是被指定的狭义状态，而是保罗给予情感共鸣而主动选择的的存在。</p><p>序幕结束，则到了保罗的表现时间，展现他对“救世主”的态度。此时，维伦纽瓦运用了两个极端化场景的对比。序幕最后的黄沙漫天，随着保罗的惊醒，瞬间变成了对他房间的远景镜头，作为对空间整体的呈现——散发着柔和的人造光线，配着科技感十足的跟随灯，形成了发达文明的安居之所。这个对比，已经点出了电影的主线：保罗在科技文明的禁锢之中，对于原始自由的冲击。远景中，他被房间的边廓牢牢框在其中，正是对此的强化。</p><figure data-size=\"normal\"><noscript><img src=\"https://pic2.zhimg.com/50/v2-788d71afa05591aae77d9be777588386_720w.jpg?source=1940ef5c\" data-rawwidth=\"1080\" data-rawheight=\"608\" data-size=\"normal\" data-default-watermark-src=\"https://pic1.zhimg.com/50/v2-f124c265dd00c2e3e512e603e4dc6228_720w.jpg?source=1940ef5c\" class=\"origin_image zh-lightbox-thumb\" width=\"1080\" data-original=\"https://pic2.zhimg.com/v2-788d71afa05591aae77d9be777588386_r.jpg?source=1940ef5c\"/></noscript><img src=\"data:image/svg+xml;utf8,&lt;svg xmlns=&#39;http://www.w3.org/2000/svg&#39; width=&#39;1080&#39; height=&#39;608&#39;&gt;&lt;/svg&gt;\" data-rawwidth=\"1080\" data-rawheight=\"608\" data-size=\"normal\" data-default-watermark-src=\"https://pic1.zhimg.com/50/v2-f124c265dd00c2e3e512e603e4dc6228_720w.jpg?source=1940ef5c\" class=\"origin_image zh-lightbox-thumb lazy\" width=\"1080\" data-original=\"https://pic2.zhimg.com/v2-788d71afa05591aae77d9be777588386_r.jpg?source=1940ef5c\" data-actualsrc=\"https://pic2.zhimg.com/50/v2-788d71afa05591aae77d9be777588386_720w.jpg?source=1940ef5c\"/></figure><p>而在剧情层面，第一部分的主体，便是对保罗所处心态的细化描述。在与母亲吃早饭时，母亲无视了他“我刚起床“的婉拒，坚决让他以“那种声音”下达“命令“，才肯把水给他。这便是对他出生之时便被家族确定的“救世主身份”的训练，在预知未来的能力之外，再习得自己的“惑音”。而当他想要作为一个战士前往阿拉克斯星球，旁人也以“那不是你应该做的”为由拒绝，让他全身心投入到对“救世主领袖”的学习中。而此时，保罗所体现出的拒绝，自然也就构成了他对被动救世主宿命的不接受。</p><p>进一步，维伦纽瓦将视角扩大到他的家族、父辈。父亲第一次出场、接受皇帝任命时，维伦纽瓦有点繁琐地展现了长官们走下飞船的全过程，并用一次次的特写描绘着飞船和头盔上那种平滑而压抑的科技质感，结合高贵但死板的礼节展示，烘托出了科技文明的冰冷本质——效率极高，发达先进，但却过于机械、集权、强制，缺少人情的温度。父亲将纹章戒指按在文件上的特写镜头，则将这种集权文明给予他们的宿命决定，发展到了剧情表层：家族中的每一代，都只能受困于这种被制度决定的从属地位，无法脱离，即使不情愿，也在集权体制下无法拒绝。此时，镜头也灵敏地给到了族人们表情的特写，作为他们对此的内心反馈瞬间：对于体制控制族群命运，从故作平静的表情，到压抑情感失败的抗拒。</p><p>然而，在家族的层面，这种抗拒却与保罗的“情感化”截然不同，是融入体制、利用政治的“师夷长技”。无论从父亲对“以斗牛为游戏”的保罗爷爷，其“由勇敢的热血来主导行为”的不认可态度，还是从家族压抑内心情绪、听从皇帝命令的行为，还是母亲对保罗无视其感受态度的救世主训练、命运强加，都体现出了这一点。搬家的段落里，先是父亲扶住妻子肩膀手的特写，马上切入被封箱的牛头与祖父画像，暗示着他们倾向的选择：利用理性的政治手段，抹杀“勇敢”的情感血脉。</p><figure data-size=\"normal\"><noscript><img src=\"https://pica.zhimg.com/50/v2-7f6ae36502b4286936bab87b56a357cc_720w.jpg?source=1940ef5c\" data-rawwidth=\"540\" data-rawheight=\"291\" data-size=\"normal\" data-default-watermark-src=\"https://pic3.zhimg.com/50/v2-ff1ed63ec4c16d3a5d8a4965e8fc11fc_720w.jpg?source=1940ef5c\" class=\"origin_image zh-lightbox-thumb\" width=\"540\" data-original=\"https://pic3.zhimg.com/v2-7f6ae36502b4286936bab87b56a357cc_r.jpg?source=1940ef5c\"/></noscript><img src=\"data:image/svg+xml;utf8,&lt;svg xmlns=&#39;http://www.w3.org/2000/svg&#39; width=&#39;540&#39; height=&#39;291&#39;&gt;&lt;/svg&gt;\" data-rawwidth=\"540\" data-rawheight=\"291\" data-size=\"normal\" data-default-watermark-src=\"https://pic3.zhimg.com/50/v2-ff1ed63ec4c16d3a5d8a4965e8fc11fc_720w.jpg?source=1940ef5c\" class=\"origin_image zh-lightbox-thumb lazy\" width=\"540\" data-original=\"https://pic3.zhimg.com/v2-7f6ae36502b4286936bab87b56a357cc_r.jpg?source=1940ef5c\" data-actualsrc=\"https://pica.zhimg.com/50/v2-7f6ae36502b4286936bab87b56a357cc_720w.jpg?source=1940ef5c\"/></figure><p>牛头的意象，代表了家族在勇敢与热血上的真正传承。在保罗吃早饭的段落也早有使用----桌子上摆放的，是爷爷戏耍公牛的小雕像，象征了热烈的情感，这也正是家族内在的血脉传承。这也对应了“搂过肩膀”的情感化特写到牛头与祖父画像封箱的变化所指----这次搬家的本质，是家族压抑自己的情感化本性，利用非情感的政治手腕，以体制内的规则的反抗。</p><p>而在家族即将毁灭、保罗拥抱救世主身份的当夜，他也凝视着公牛的雕像，预示着此后的自身质变----在母亲被阿克南族人殴打的时候，发自于母子亲情，首次主动地利用了“惑音”的能力。这是非常重要的一个瞬间：保罗从消极走向勇敢，接受了救世主的身份，但却不是以家族预先的设定路线，而是以个体情感为契机。而在母亲被打之前，维伦纽瓦用敌人封住母亲的嘴、“防止她用惑音”的台词，以及几个“没有被封住嘴的保罗”的特写镜头，强调了他在个体情感未被激发时的不作为----即使到了这种时候，他也不想成为救世主，直到亲情被触动。这个瞬间，也与保罗对弗雷曼人包括爱情在内的情感共鸣，以及在此之上的联手，连接了起来。</p><p>片中反复出现、大量特写镜头和台词穿插的“盾牌”，构成了家族对一切外物的情感疏远、完全隔绝，既对帝国开启，也在弗雷曼面前开启，更是作为“隔绝黄沙”的屏障，在沙漠首都中竖起。在他们眼中，一切势力都是基于政治的利用，情感化的剥离与他们在前半部中对保罗作为计划一环的总体态度如出一辙。</p><p>然而，在战斗发生时，一幕极具象征意味的画面却出现了：盾牌几乎不能抵挡任何攻击，脆弱易碎。这看似不合理的设定BUG，也正是对家族计划失败结局的展示----原本拥有情感武器却自己放弃、举起盾牌而隔绝了心灵交流的他们，是无法通过政治手段而获胜的。在袭击中，保罗父亲对死去的弗雷曼人启动了护盾，而护盾在对箭的防护中失效的特写，象征了保罗父亲计划的破产——他对弗雷曼人心怀隔阂，只是政治利用，也不能保护自己。</p><p>有趣的是，在保罗父亲被抓后的段落，电影又做了一个针对“阿克南与护盾”的表达。首领不讲信用地先杀了岳医生，而后对自己的表亲打开戒备的护盾，表现出十足的无情感。而此时的保罗父亲，凝望着象征意味十足的牛头，而后为了自己的子女流泪，在情感的作用下吐出毒气，同归于尽。情感对于护盾的穿透力，对敌族同样奏效。而此时，家族的情感化本质，那种勇敢的热血，也终于回到了他的身上，击溃了敌意与戒备的力量。</p><p>此时，失去具有象征意义的护盾，不再抑制勇敢之心的本性，也不再回避流出的亲情泪水，不再以理性的算计行事，在镜头的强调下赤身裸体，雷托才终于回归了自己。而这种勇敢、亲情的内心力量，也会同牛头的意象一起，传递到保罗的身上，帮助他继承家族的热血，以雷托之子——而非女巫眼中的工具人——的身份，以自己的个体内心，用自己的个体情感，战胜恐惧，成为源于自己、而非外物的救世主。</p><figure data-size=\"normal\"><noscript><img src=\"https://pic1.zhimg.com/50/v2-fb7cb9011f7aeadfe29cc67d3f543e37_720w.jpg?source=1940ef5c\" data-rawwidth=\"514\" data-rawheight=\"288\" data-size=\"normal\" data-default-watermark-src=\"https://pic3.zhimg.com/50/v2-15545bdf377462396cb2de0bfaa51b84_720w.jpg?source=1940ef5c\" class=\"origin_image zh-lightbox-thumb\" width=\"514\" data-original=\"https://pic2.zhimg.com/v2-fb7cb9011f7aeadfe29cc67d3f543e37_r.jpg?source=1940ef5c\"/></noscript><img src=\"data:image/svg+xml;utf8,&lt;svg xmlns=&#39;http://www.w3.org/2000/svg&#39; width=&#39;514&#39; height=&#39;288&#39;&gt;&lt;/svg&gt;\" data-rawwidth=\"514\" data-rawheight=\"288\" data-size=\"normal\" data-default-watermark-src=\"https://pic3.zhimg.com/50/v2-15545bdf377462396cb2de0bfaa51b84_720w.jpg?source=1940ef5c\" class=\"origin_image zh-lightbox-thumb lazy\" width=\"514\" data-original=\"https://pic2.zhimg.com/v2-fb7cb9011f7aeadfe29cc67d3f543e37_r.jpg?source=1940ef5c\" data-actualsrc=\"https://pic1.zhimg.com/50/v2-fb7cb9011f7aeadfe29cc67d3f543e37_720w.jpg?source=1940ef5c\"/></figure><p>就像台词中反复强调的“政治”一样，“对情感的去除”，对自身本质的压制，正是家族的思维出发点：在上一辈的情感化失败后，转而压抑情感，试图以非情感的政治体制本身反击。在剧情层面上，我们可以轻易看到相关的表现段落。在“联合弗雷曼族”的核心计划的执行中，家族始终保持着“黑脸红脸协作”一般的拉拢手段：对于到来的弗雷曼族人，下属永远表现出戒备，而保罗的父亲则永远在示意信任；但在家族自己的会议上，每个人却都在讨论着“阿克南家族从这里获取大量利润，我们暂时拿不到这么多”，谈及星球的利益永远多于星球的住民。这说明，整个家族中并没有人真正在乎与弗雷曼的交心，一切表象只是拉拢合作的手段。</p><p>比起保罗与弗雷曼在预知幻觉中的感知，实际生活中对他们的态度，其族人对弗雷曼，无疑以政治利用为主。父亲拒绝了不进入沙漠的请求，也将自己的真实想法揭露了出来。而弗雷曼此时的回答，也是“我不是来帮你的，我们的星球上总会有人来来去去”，将他们摆在了与阿克南同样的侵略者位置上，而非交心的朋友。</p><p>并且，在电影中，保罗与父亲在对待族人的态度上，也有着明显的区别：保罗对任何下属都怀有好感，拥抱微笑，而父亲却会在保罗被暗杀未遂时，折辱于下属的荣耀。而他们对保罗早早的“指定救世主命运”行为，也是一种无视保罗情绪的强行赋予。事实上，在走下飞船、迎来政治计划破灭之地的时候，父亲对母亲的拥抱、牵手特写，属下拿出宗教经书的特写，包括贯穿全片的，母亲对保罗从“强迫利用”到“情感同调”的变化过程，都显示着家族在内心中的情感本质。更不用说，保罗父母的爱情表达，保罗父亲“别管香料，让人上船”时的发怒。</p><p>因此，他们去除情感化的结果，加上他们在体制中的较低地位，也必然是在皇帝的集权中迎来失败----当发现香料采集装备已经被破坏，保罗父亲说出的“你知道如果我们不遵守皇帝的命令，会带来什么吗”，已经明示了他们在政治斗法上的确定结局。</p><figure data-size=\"normal\"><noscript><img src=\"https://pic3.zhimg.com/50/v2-2e5b3b894bcd0d51b9c3f7566b977504_720w.jpg?source=1940ef5c\" data-rawwidth=\"584\" data-rawheight=\"328\" data-size=\"normal\" data-default-watermark-src=\"https://pic1.zhimg.com/50/v2-dd86203ba8131bb27c07b8687433f148_720w.jpg?source=1940ef5c\" class=\"origin_image zh-lightbox-thumb\" width=\"584\" data-original=\"https://pic2.zhimg.com/v2-2e5b3b894bcd0d51b9c3f7566b977504_r.jpg?source=1940ef5c\"/></noscript><img src=\"data:image/svg+xml;utf8,&lt;svg xmlns=&#39;http://www.w3.org/2000/svg&#39; width=&#39;584&#39; height=&#39;328&#39;&gt;&lt;/svg&gt;\" data-rawwidth=\"584\" data-rawheight=\"328\" data-size=\"normal\" data-default-watermark-src=\"https://pic1.zhimg.com/50/v2-dd86203ba8131bb27c07b8687433f148_720w.jpg?source=1940ef5c\" class=\"origin_image zh-lightbox-thumb lazy\" width=\"584\" data-original=\"https://pic2.zhimg.com/v2-2e5b3b894bcd0d51b9c3f7566b977504_r.jpg?source=1940ef5c\" data-actualsrc=\"https://pic3.zhimg.com/50/v2-2e5b3b894bcd0d51b9c3f7566b977504_720w.jpg?source=1940ef5c\"/></figure><p>对场景的对比性使用，是维伦纽瓦始终重视的手法。首先，对于“礼节，规矩”与“信仰、宗教”的大量镜头强调，贯穿于电影之中，甚至在很多场景中显得有些拖慢了节奏。对待帝国人物，是前者的特写、全景、慢镜，用来突出一种抹除情感的机械感，让人物仿佛被束缚于制度、规则之中的提线木偶。而对于弗雷曼，则是后者的相关镜头，用来突出沙漠族人对信仰的狂热、虔诚之心，渲染他们浓烈而真挚的情感。作品打造了“礼节过度，逆反人性”的高度文明化场景，以及“原始信仰，宗教崇拜”的高度史前化场景，让二者或对立、或共存，发生交互关系。</p><p>对于沙漠的情感化特质，还有诸多角度的强化。在保罗的预知画面中，贯穿始终的要素，是他的“恐惧”。在递进的预知中，他逐步看到了手握的匕首、杀人的鲜血、战斗的未来、以及“被杀死”的结局。这让他感到恐惧和抵触，并成为了对“拒绝作为救世主的未来”的抗拒情绪的具象化产物。这一切都发生在沙漠中，赋予了沙漠环境以情绪的属性。而另一个情感要素，则是“爱情”，也同样是从含糊的“看到女孩”、经过“看到接吻”，最后来到了现实沙漠中的相遇。此外，战士邓肯，作为族人中少有的情感化存在，在前半部中亲近弗雷曼族人，与保罗互动有趣，后半部中则为了保护保罗母子而牺牲。牺牲前凝视手指上蚂蚁的主观镜头，将他动机的情感化，与“沙漠”环境结合了起来。保罗对沙漠的距离递进，对自身预知未来的含糊到确切、抗拒到接受，成为了他被情感内心引导、走向救世主的映射。</p><p>并且，更重要的，自然是发达文明与原始黄沙的环境对比。这也是片中最明显、被各种远景、慢镜头、美术设计，渲染到极致的手法。在抵达阿拉克斯的段落中，机械、礼仪一边与荒漠一边的对比，以及飞过黄沙、迎来城市的航拍-----一个表达方式让人想到《边境杀手》中经过美国与墨西哥边境的航拍的画面，以直观的两极转变突出环境的不同。环境对比，构成了各自代表的“政治”与“情感”的对立----“政治”的发达、集权文明环境，与“情感”的原始、自然环境。</p><p>尤其是随着电影剧情，来到家族进入阿拉克斯的部分，“原始沙漠”与“科技文明”在同画中的交互关系，成为了频繁出现的镜头，指示着二者的冲突与矛盾----高科技的都市、设备，对于沙漠的侵占，表现着集权文明占据优势的当前，而就像家族考察香料采集车一幕所表现的那样，当自然发威，黄尘漫天，流沙凹陷，科技结晶的采集车只会被吞没，一切科技文明的景物都会被瞬间掩盖，自然的力量是不可撼动的，这预示了弗雷曼与“情感”的最终胜利。</p><figure data-size=\"normal\"><noscript><img src=\"https://pica.zhimg.com/50/v2-0ceac3f35ebf2c1f4deda1250d9f2fbb_720w.jpg?source=1940ef5c\" data-rawwidth=\"690\" data-rawheight=\"289\" data-size=\"normal\" data-default-watermark-src=\"https://pic2.zhimg.com/50/v2-5753c44cd8df4ee784650c3042f6f0a7_720w.jpg?source=1940ef5c\" class=\"origin_image zh-lightbox-thumb\" width=\"690\" data-original=\"https://pic2.zhimg.com/v2-0ceac3f35ebf2c1f4deda1250d9f2fbb_r.jpg?source=1940ef5c\"/></noscript><img src=\"data:image/svg+xml;utf8,&lt;svg xmlns=&#39;http://www.w3.org/2000/svg&#39; width=&#39;690&#39; height=&#39;289&#39;&gt;&lt;/svg&gt;\" data-rawwidth=\"690\" data-rawheight=\"289\" data-size=\"normal\" data-default-watermark-src=\"https://pic2.zhimg.com/50/v2-5753c44cd8df4ee784650c3042f6f0a7_720w.jpg?source=1940ef5c\" class=\"origin_image zh-lightbox-thumb lazy\" width=\"690\" data-original=\"https://pic2.zhimg.com/v2-0ceac3f35ebf2c1f4deda1250d9f2fbb_r.jpg?source=1940ef5c\" data-actualsrc=\"https://pica.zhimg.com/50/v2-0ceac3f35ebf2c1f4deda1250d9f2fbb_720w.jpg?source=1940ef5c\"/></figure><p>政治化与非情感的冰冷科技环境，其所象征的集权文明，被情感化与非政治的原始黄沙自然环境所反抗。对这种“革命”的呈现手段，则是场景层面的频繁对立。</p><p>需要特别注意的是，维伦纽瓦也一直利用环境，强调着保罗对沙漠的亲近，从而于场景层面表现保罗作为弗雷曼族救世主、与之情感化共鸣的熟性。当保罗表现出反抗之心时，场景也会来到原始自然的状态。最主要的，当然是他“预知未来“的黄沙梦境——他由此生出了对弗雷曼反抗情感的共鸣，随之构成了自己反抗的引线。随之，黄沙扬起、遮蔽阳光，结合梦境之“虚”而造成的光晕，也成为了对“沙漠”的指代，被运用在一些科技文明的场景中，作为对“肉身处于宿命禁锢，内心急于挣脱束缚”状态的暗示。例如，在他们进入沙漠星球，舷梯打开，保罗也沐浴在一片光晕之中，暗示着他即将接触弗雷曼，开始落实内心反抗、以人性诉求而非家族引导、主动接受救世主身份的发展。而在父亲向他叙述祖辈的曾经时，二人也身处在一片草地之中。</p><p>并且，保罗在黄沙环境中的行为，还有着诸多的发展进阶，代表着他一步步走向“沙漠救世主”的内心。在序幕中，他只能看到黄沙中的弗雷曼，并听到女主角的心声，自身的进入沙漠、对其族的情感共鸣，都停留在隐约的起始。而到了正片的第一阶段，他开始在现实的自然草原中游荡，用手触摸大地、水洼，凝视着远处的夕阳，表现出更确切的融入，但却还没有来到沙漠之中。</p><p>当族人进入阿拉克斯后，他开始在现实的沙漠里游荡，但对其的关系却是若即若离的，既有触摸沙子的亲近，也有在沙暴中摔倒的慌张，而此时，他对黄沙的幻觉，也开始涉及到更细节、情感的信息层面：看到了怀抱孩子的母亲，看到了沙漠中的自己，更看到了自己与女主角接吻的情感高潮瞬间。这提供了一系列的要素：保罗对沙漠的融合，保罗对沙漠救世主身份的即将接受，完成这一切的重要促成点、作为沙漠象征的“情感化”。</p><p>而到了最后，则变成了保罗在幻觉中的明确身份、现实中的融入沙漠，正式“登基”。他与沙漠场景关系的发展，始终吻合着剧情上的各阶段---例如，在家族即将被毁灭，内心发生质变的节点上，看到“接吻”的幻觉----成为了对剧情的侧面映衬。</p><figure data-size=\"normal\"><noscript><img src=\"https://pic1.zhimg.com/50/v2-11adc578fbb776a4dcd11d2c1449f8a0_720w.jpg?source=1940ef5c\" data-rawwidth=\"690\" data-rawheight=\"289\" data-size=\"normal\" data-default-watermark-src=\"https://pic2.zhimg.com/50/v2-d4c55c08868c6bc9ab49910b34d02f9c_720w.jpg?source=1940ef5c\" class=\"origin_image zh-lightbox-thumb\" width=\"690\" data-original=\"https://pic2.zhimg.com/v2-11adc578fbb776a4dcd11d2c1449f8a0_r.jpg?source=1940ef5c\"/></noscript><img src=\"data:image/svg+xml;utf8,&lt;svg xmlns=&#39;http://www.w3.org/2000/svg&#39; width=&#39;690&#39; height=&#39;289&#39;&gt;&lt;/svg&gt;\" data-rawwidth=\"690\" data-rawheight=\"289\" data-size=\"normal\" data-default-watermark-src=\"https://pic2.zhimg.com/50/v2-d4c55c08868c6bc9ab49910b34d02f9c_720w.jpg?source=1940ef5c\" class=\"origin_image zh-lightbox-thumb lazy\" width=\"690\" data-original=\"https://pic2.zhimg.com/v2-11adc578fbb776a4dcd11d2c1449f8a0_r.jpg?source=1940ef5c\" data-actualsrc=\"https://pic1.zhimg.com/50/v2-11adc578fbb776a4dcd11d2c1449f8a0_720w.jpg?source=1940ef5c\"/></figure><p>可以看到，对于“场景引导内心倾向”的手法，是影片非常重要的存在。一个在此值得注意的细部手法是，整部电影中，维伦纽瓦都在进行着人物表情与外部场景的正反打组合。一个科技发达的环境，或一个黄沙漫天的环境过后，一定会切入保罗等人的表情特写。这并不只是保罗身上的表现手法，甚至体现在了弗雷曼一族的身上：身在现代化房屋内的她们，被墙壁隔绝了与外界的联系，但她们却依然透过缝隙，望向窗外的树木，以及象征意味极强的“过度曝光下的阳光”。由此，维伦纽瓦便建立起了人物对环境场景的感受性，让本应客观的场景画面，仿佛成为了人物观察下的第一视角，并随之打通了场景对人物内心的指代作用。</p><p>由此可见，保罗进入阿拉克斯，必然是一个重要的段落，它开启了保罗内心对于自由、挣脱的人性觉醒，是存在于意识中的隐约冲动化作现实中真正行动的阶段，是对救世主身份从被动要求到主动接受的关键变化契机。在保罗通过投影地表时，他对室内投影出的森林与仓鼠产生兴趣（仓鼠此后也出现在现实的沙漠中），随后被政治敌对阵营的子弹暗杀未遂，缓慢飞行的子弹也击穿了森林的投影。这正是对此节点之关键性的引导：他被沙漠的吸引，从预知的幻觉来到了确凿的现实，而他与沙漠一起要对抗的，正是这枚政治暗杀、破坏了沙漠的子弹，其背后的象征意义。</p><p>对于“进入沙漠”，维伦纽瓦当然也重点利用了场景环境的对比。搬家到阿拉克斯的片段，是平行化的剪辑——巨大的飞船浮出了水面，形成了对原始环境的文明入侵、破坏，而此时的保罗则在把玩草木、触摸河水、眺望太阳。在这次搬家之中引发的家族毁灭、与弗雷曼的接触，将带来他的愤怒，带来他对于沙漠的融入，带来他拥抱救世主身份、背靠原始自然对抗集权发达文明的碰撞 。而到了走下飞船的部分，则给出阿拉克斯与保罗在“不情愿”上的心境状态。巨大的飞船阴影遮蔽了地面上蚂蚁一般的渺小人群，象征着集权力量对他们的压迫。</p><p>全程保持远景处理下的人群，由于看不到长相，而淡化了个体性，形成了一个“族群”的概念，对等了同样被压迫、且即将被毁灭的保罗族群。保罗一行人抵达机场，场景由机舱转向黄沙，又利用直升机等强化了“沙漠里的武器”，进一步创造二者的环境冲突，传递出二者的对立关系。并且，热烈欢迎的他们形成了全景中的后景，被“强制按照老主人规定而拉出来欢迎”的表述，表现出文明对人情主导选择权利的削弱，对应着此场景里保罗族群被体制强迫的不情愿。</p><figure data-size=\"normal\"><noscript><img src=\"https://pic2.zhimg.com/50/v2-f179e69b995ec17d44f93a835f84ba8c_720w.jpg?source=1940ef5c\" data-rawwidth=\"800\" data-rawheight=\"427\" data-size=\"normal\" data-default-watermark-src=\"https://pic1.zhimg.com/50/v2-90d6c1ad3afd9bc07bb666c61b5a01ea_720w.jpg?source=1940ef5c\" class=\"origin_image zh-lightbox-thumb\" width=\"800\" data-original=\"https://pic3.zhimg.com/v2-f179e69b995ec17d44f93a835f84ba8c_r.jpg?source=1940ef5c\"/></noscript><img src=\"data:image/svg+xml;utf8,&lt;svg xmlns=&#39;http://www.w3.org/2000/svg&#39; width=&#39;800&#39; height=&#39;427&#39;&gt;&lt;/svg&gt;\" data-rawwidth=\"800\" data-rawheight=\"427\" data-size=\"normal\" data-default-watermark-src=\"https://pic1.zhimg.com/50/v2-90d6c1ad3afd9bc07bb666c61b5a01ea_720w.jpg?source=1940ef5c\" class=\"origin_image zh-lightbox-thumb lazy\" width=\"800\" data-original=\"https://pic3.zhimg.com/v2-f179e69b995ec17d44f93a835f84ba8c_r.jpg?source=1940ef5c\" data-actualsrc=\"https://pic2.zhimg.com/50/v2-f179e69b995ec17d44f93a835f84ba8c_720w.jpg?source=1940ef5c\"/></figure><p>在电影中，维伦纽瓦围绕着保罗的救世主身份，给出了细化区分的解剖，并精确地指引到了主题表现环节。在母亲接待上位巫女的时候，我们得知，救世主是刻在他血脉里的天赋，是他的指定命运。然而，在他的使用下，这种天赋却更加地可以深入人心倾听，形成感情的接收平台，并随之激发自己的感情----对于弗雷曼的心声“预知”，由此建立的情感感知，并不在巫女“如果你不能遏制自己的冲动，像野兽一样，就会死亡”的评判标准之上。对此表现最明显的，便是保罗对被动接受训练的抗拒，对沙漠一族预知中的情感共鸣，后续的主动挺身而出。</p><p>对于被告知的“救世主”，在刚刚抵达阿拉克斯时，面对将自己呼唤作弥赛亚的弗雷曼，他有着“他们被植入了迷信”的发言。这与最后，达成情感共鸣的他，以“耶稣”之姿出现在弗雷曼面前，形成了强烈的衔接发展。在保护母亲不受侮辱的个人情感冲动下，他才第一次主动开启能力，这与随后的救助弗雷曼，必然都不符合巫女“理性、控制情感”的“救世主”既定规格。在最后“登临救世主”的决斗前，镜头给到了此前一直强调的家族戒指，暗示着保罗此时的“人子”——而非巫女对“雷托之子”身份的否定——属性，与此前被附加的定义做出了区分。</p><p>而非常值得一说的，是维伦纽瓦给出指引时的出色表现：保罗接受上位巫女测试的段落。在主观镜头下，保罗被巫女以“惑音”技能强行拉到近前、测验，被拉近瞬间的镜头伸缩，直观地展现了保罗移动的“被迫”，结合保罗的受压下跪，强化了保罗此时面对巫女力量----母亲命令、皇帝权力的等同存在----的被迫状态。他对被迫的抗拒，从段落开头那个“牛头”的特写之中，就已经有所暗示了。</p><p>巫女对他救世主力量的测试，则是对他命运的强行引导与指定。而在巫女测验之下，保罗在清醒状态下的“预知未来”能力首次激活，看到了黄沙中自己作为“沙漠救世主”的身影，但触发它的，恰恰是保罗自身的感受：针架在脖子、手伸入盒子的痛苦，受强大力量压迫之下的愤怒。这种激活，完全是出于保罗的反抗情绪。而感知中的黄沙，则与冰冷感十足的房间形成了环境上的对比。</p><p>对于指定命运的强迫性力量的反抗情绪，以此时脑海中的火焰喷涌而出，即将让保罗主动成为沙漠中的救世主，而它与此时此刻巫女主导的——“你继承的不只是身份”，抹杀保罗个体性的表述——“救世主”却截然不同，象征压迫集权的冰冷环境（其中挣扎不已、对抗巫女的保罗）与象征反抗情绪的黄沙环境（其中投身革命，以自身意愿成为救世主的保罗）的对比，加持了这种表达。</p><p>而在这个场景中，维伦纽瓦也建立起了保罗母子的线索，暗示了此后母亲同为救世主的发展。在保罗承受痛苦时，他的母亲也在门外体验了同样的痛苦。这便构成了二人在后半部中同调的暗示：母亲也与保罗共鸣相通。而在与巫女对话时，母亲也开始了情绪化的争论。随后，她被飞船气流喷的睁不开眼 ，体现出被冰冷科技压制的状态。但是，当母亲与保罗面对面时，她却再次重申了“政治”。</p><p>我们可以看到的是：对于巫女一族的政治计划，母亲同样有情绪主导的一面，违反“生女孩更合适”的规则而产下保罗，便是其母爱一面的证明。并且，在家族毁灭即将到来时，母亲表现出的极具动摇，也是又一次的情感流露。进一步地，身处两种场景中的保罗，则对“穿正装的礼仪”给出不适的表达，暗示了他的反抗，并对后者处之自若，暗示了他的归宿。</p><figure data-size=\"normal\"><noscript><img src=\"https://pic3.zhimg.com/50/v2-0b277f705a6f6c9ac6dedf0ccd449758_720w.jpg?source=1940ef5c\" data-rawwidth=\"653\" data-rawheight=\"916\" data-size=\"normal\" data-default-watermark-src=\"https://pica.zhimg.com/50/v2-6c5872bd6057122bdccc53f48d137c21_720w.jpg?source=1940ef5c\" class=\"origin_image zh-lightbox-thumb\" width=\"653\" data-original=\"https://pica.zhimg.com/v2-0b277f705a6f6c9ac6dedf0ccd449758_r.jpg?source=1940ef5c\"/></noscript><img src=\"data:image/svg+xml;utf8,&lt;svg xmlns=&#39;http://www.w3.org/2000/svg&#39; width=&#39;653&#39; height=&#39;916&#39;&gt;&lt;/svg&gt;\" data-rawwidth=\"653\" data-rawheight=\"916\" data-size=\"normal\" data-default-watermark-src=\"https://pica.zhimg.com/50/v2-6c5872bd6057122bdccc53f48d137c21_720w.jpg?source=1940ef5c\" class=\"origin_image zh-lightbox-thumb lazy\" width=\"653\" data-original=\"https://pica.zhimg.com/v2-0b277f705a6f6c9ac6dedf0ccd449758_r.jpg?source=1940ef5c\" data-actualsrc=\"https://pic3.zhimg.com/50/v2-0b277f705a6f6c9ac6dedf0ccd449758_720w.jpg?source=1940ef5c\"/></figure><p>然而，这种情绪化暂时只是一粒种子，还没有被完全激发，母亲依然执行着非情感的政治计划，需要后半部中的“家族毁灭”来触发。在双方的越肩正反打里，清楚地看到：二人在对方的视野中并不清晰，只是模糊一团，暗示了此时二人分别处于“政治化”与“情感化”两极的区分状态，还没有到后半部中一起革命的情感共鸣阶段。</p><p>真正的变化节点，也与保罗对救世主态度的质变同样，发生在了家族毁灭的时候-----全景之下，高科技的飞船爆炸、着火、坠落，而永恒存在的，只有将飞船映衬得无比渺小的漫漫黄沙，而保罗母子就站在这片黄沙之中。这一幕，象征着“科技”对接的“政治化”（家族计划）的破产，也象征着保罗母子身入自然、拥抱情感化、接受沙漠救世主身份的未来。最后，母亲对保罗在沙漠中的“你永远是我们的儿子”，便是将他视为人子的个体情感化表达，也与巫女此前对保罗的定性明显区分开来，再次强调了“救世主”的变化。</p><p>“被强迫的非情感化救世主，主动接受的情感化救世主”，是主题表达中的重要部分，也是维伦纽瓦借用原作为基础，处理最精细的线索。目前虽然也对保罗抱有“救世主“的期待，但那只是一种强行赋予的存在，而他通过预言能力获取的对自由的共情，随之利用能力，则展现出了他对其文明发自本心的主观反抗。一个是被内定的救世主，是与个人愿望无关的救世主，基于非感情的政治目的（保罗称母亲“玩弄政治”推出自己，实现族群目标），另一个则是自己的激烈情绪表达，是自由反抗的象征，它们形成了“救世主”在族群任命、主动担任的两个状态阶段。</p><figure data-size=\"normal\"><noscript><img src=\"https://pic2.zhimg.com/50/v2-792c75cbcb29ef3b7069b26cc634d663_720w.jpg?source=1940ef5c\" data-rawwidth=\"690\" data-rawheight=\"460\" data-size=\"normal\" data-default-watermark-src=\"https://pica.zhimg.com/50/v2-ef3b49dd3136138d955eecaa9fca950d_720w.jpg?source=1940ef5c\" class=\"origin_image zh-lightbox-thumb\" width=\"690\" data-original=\"https://pic3.zhimg.com/v2-792c75cbcb29ef3b7069b26cc634d663_r.jpg?source=1940ef5c\"/></noscript><img src=\"data:image/svg+xml;utf8,&lt;svg xmlns=&#39;http://www.w3.org/2000/svg&#39; width=&#39;690&#39; height=&#39;460&#39;&gt;&lt;/svg&gt;\" data-rawwidth=\"690\" data-rawheight=\"460\" data-size=\"normal\" data-default-watermark-src=\"https://pica.zhimg.com/50/v2-ef3b49dd3136138d955eecaa9fca950d_720w.jpg?source=1940ef5c\" class=\"origin_image zh-lightbox-thumb lazy\" width=\"690\" data-original=\"https://pic3.zhimg.com/v2-792c75cbcb29ef3b7069b26cc634d663_r.jpg?source=1940ef5c\" data-actualsrc=\"https://pic2.zhimg.com/50/v2-792c75cbcb29ef3b7069b26cc634d663_720w.jpg?source=1940ef5c\"/></figure><p>对于这一点，维伦纽瓦设计了一个非常微妙的场景。在最终的沙漠决斗段落，保罗先是预知到了决斗的未来：自己即将被杀死。然而，在现实中，保罗却在几经犹豫之后，干脆利落地杀死了对方，随后引领弗雷曼走向了远方。</p><p>首先，这当然是对于他“战胜恐惧，拥抱救世主身份”的表达-----他压制了一直困扰自己的恐惧与抵触，迎接预知中的沙漠救世主之未来。而在另一方面，这却同样是他对于预知中“既定”的逆反，这暗示了其救世主身份的反宿命性----不完全按照既定预知而行，不是被预先计划的那个救世主，而是自己选择的救世主，蕴含了情感刺激、自己选择的自由，恰是对剥离情感、预先指定之压迫的反抗。</p><p>电影通篇，都在让保罗应对那个巫女不停絮语的预知幻觉，展现他对此的抗拒到接受。然而，当最终的“登基决斗“来临，他却做出了反抗：在巫女“如果要死人，就杀死你自己”的絮语中，在对方杀死自己、匕首染血的幻像中，经过暂时的“谁也不死，让其认输”的犹豫，终于杀死了对方。</p><p>他吻合了一部分预言，迎接了“杀人”的结局，但却抵抗了另一部分，让死去的人变成了对方。而从戒指的特写被强调的，是保罗作为人子、继承家族的勇敢精神，用它压过了对未来的恐惧，而不是巫女口中被否定为雷托之子的自己，是如同祖父一样的“冲动”，是化身为公牛，而绝非巫女口中“冲动如野兽，你就会死”的存在。</p><p>这种微妙的区分，让保罗对救世主的接受，摆脱了单纯的“听从巫女安排”，做出了自己不同于此的主动选择。此时，他确实应和了自己的身份，却又走出了一道与规划不同、主动选择的轨迹：以勇敢战胜恐惧，以对母亲的保护情感而主动激活能力，以根植于家族的身份成为耶稣。这种种，逆转了外界的强迫引导，女巫的预先设定。他并没有全盘接受被动看到的未来，而是亲手打出了一条前路不明的道路。看似单纯地接受，也在自主地反抗。</p><p>而这个反抗，也与他率领弗雷曼的未来行为吻合了：对强权压迫的非情感之集权体制的革命。</p><figure data-size=\"normal\"><noscript><img src=\"https://pic3.zhimg.com/50/v2-ca3f3d7ab7597b20713ee1eeeb55225a_720w.jpg?source=1940ef5c\" data-rawwidth=\"690\" data-rawheight=\"387\" data-size=\"normal\" data-default-watermark-src=\"https://pic2.zhimg.com/50/v2-833dad3c35538d85527e0da1b159e3f6_720w.jpg?source=1940ef5c\" class=\"origin_image zh-lightbox-thumb\" width=\"690\" data-original=\"https://pic1.zhimg.com/v2-ca3f3d7ab7597b20713ee1eeeb55225a_r.jpg?source=1940ef5c\"/></noscript><img src=\"data:image/svg+xml;utf8,&lt;svg xmlns=&#39;http://www.w3.org/2000/svg&#39; width=&#39;690&#39; height=&#39;387&#39;&gt;&lt;/svg&gt;\" data-rawwidth=\"690\" data-rawheight=\"387\" data-size=\"normal\" data-default-watermark-src=\"https://pic2.zhimg.com/50/v2-833dad3c35538d85527e0da1b159e3f6_720w.jpg?source=1940ef5c\" class=\"origin_image zh-lightbox-thumb lazy\" width=\"690\" data-original=\"https://pic1.zhimg.com/v2-ca3f3d7ab7597b20713ee1eeeb55225a_r.jpg?source=1940ef5c\" data-actualsrc=\"https://pic3.zhimg.com/50/v2-ca3f3d7ab7597b20713ee1eeeb55225a_720w.jpg?source=1940ef5c\"/></figure><p>可以看到的是，维伦纽瓦对原作进行了相对个人化的调整，在宏观叙事的外壳之下，将人物的内心作为核心。这符合他的主题风格，也能相对淡化原作中较为复杂、纷复的人物群像，以及较为深度的内容表达，将目光聚焦在保罗一个人身上，以他的内心走向为主线，其他人——例如母亲——则削减表现细节，作为对他线索的辅助。它可能削弱了原作的艰深、思考，但却更容易以电影形式做出完成度，被更多人接受。</p><p>为此，维伦纽瓦有对原作的延续，也有修改。延续方面，他使用了小说里追求的“反高潮”风格，无论是阿克南家族与保罗家族的对战，人员的牺牲，都没有被浓墨重彩地过度呈现，而是点到即止。特别是战斗员即将杀死弗雷曼线人的一幕，一个黄沙下沉，就了结了一切。而高潮的决斗场景，也是干净利落。原作采取该风格，是为了去除“主角降临，战无不胜”的英雄主义史观，让主角不再像一个“命授于天，必然救世”的天注定英雄，反而对应了他祖父“斗牛”一般的勇敢，以勇敢来开拓未来，就像保罗在决斗中对既定未来的打破、对不明未来的迎接。这种对英雄主义的淡化，无疑吻合了维伦纽瓦的思路。</p><p>而在修改方面，他在一定程度上改变了保罗能力的细节，让他似乎从原作里单纯的“预知未来”，变成了察觉他人心声的“全知全能”。序幕中就有了明显的体现——他甚至能听到了弗雷曼少女的个人想法。这便是出于对“聚焦保罗内心变化”的表达需要了。比起预知事件，电影需要更早地让主线进入对保罗的内心呈现中，让保罗更早地被引导出主动反抗的共鸣。并且，在开篇的序幕中，他也淡化了阿克南“故意保存实力”的策略，让他们在皇帝的力量下更凸显无力感，从而强化了他们对抗被统治宿命的决绝感，并给予了保罗作为“沙漠救世主”的必要性。</p><p>或许，这也是张震饰演的医生，其卧底过程显得突兀、并被改动的内在原因。这种无人可预料、缺乏事先铺垫的背叛，才正说明了“必然是救世主“之英雄主义的不可行，不知何时就会出现背离者，无法真正按照“预言能力”指点地那么一帆风顺。而他“为了妻子”的动机说明，其背离家族、加入阿克南军队的镜头，则彰显了情感大于政治的力量：即使是长久服役于一阵营的忠臣，也会因为自己的爱情，背叛自己的阵营立场。</p><p>此外，维伦纽瓦还比较机智地处理了世界观背景的交代。他将对两个族群交锋的介绍，做成了保罗阅读资料时的思想闪现，由此成为了他的主观性段落。拥有香料而被不断侵略的受压迫与反抗战斗，结合着黄沙的背景，成为了保罗内心表现的一部分。</p><p>可以看到的是，维伦纽瓦借用了原作中的诸多概念要素，并将之转化为自己围绕人心感情的表述。对救世主宿命的从被动拒绝到主动接纳，对两代人的“反抗体制”，从“政治化的反抗”到“情感化的革命”，以及原作中那些科技文明与原始沙丘的宏大场景在主题表现中的对比性运用，包括对原作背景交代难度的消化，反高潮的去英雄史观倾向，都以原作出发，而行自己的表达。</p><figure data-size=\"normal\"><noscript><img src=\"https://pic2.zhimg.com/50/v2-ccaae6f3fd6642475ea2a590fdd7d307_720w.jpg?source=1940ef5c\" data-rawwidth=\"650\" data-rawheight=\"217\" data-size=\"normal\" data-default-watermark-src=\"https://pica.zhimg.com/50/v2-b774fe0d32be0931a2a1915dd6b6dea3_720w.jpg?source=1940ef5c\" class=\"origin_image zh-lightbox-thumb\" width=\"650\" data-original=\"https://pic3.zhimg.com/v2-ccaae6f3fd6642475ea2a590fdd7d307_r.jpg?source=1940ef5c\"/></noscript><img src=\"data:image/svg+xml;utf8,&lt;svg xmlns=&#39;http://www.w3.org/2000/svg&#39; width=&#39;650&#39; height=&#39;217&#39;&gt;&lt;/svg&gt;\" data-rawwidth=\"650\" data-rawheight=\"217\" data-size=\"normal\" data-default-watermark-src=\"https://pica.zhimg.com/50/v2-b774fe0d32be0931a2a1915dd6b6dea3_720w.jpg?source=1940ef5c\" class=\"origin_image zh-lightbox-thumb lazy\" width=\"650\" data-original=\"https://pic3.zhimg.com/v2-ccaae6f3fd6642475ea2a590fdd7d307_r.jpg?source=1940ef5c\" data-actualsrc=\"https://pic2.zhimg.com/50/v2-ccaae6f3fd6642475ea2a590fdd7d307_720w.jpg?source=1940ef5c\"/></figure><p>结尾，当保罗终于站在弗雷曼的面前，在黄沙中被围绕，宛若出现在加利利荒漠里的耶稣。然而，不同于使命神授的被动接受，保罗却是历经世事后，在无数次的心灵倾听与现实体验中，产生对帝国体制的反抗情绪、对同自己家族一样被集权系统欺压的沙漠一族的同感，以勇敢的情绪推动，主动拥抱了救世主的使命。对“革命，救世”，他进行了基于情感内心的自由选择。对看似既定的宿命，从抗拒既定到转为主观能动，最终迎接使命的同时也打破既定。这是电影处理非常精细微妙、也贯穿全片的核心内容。</p><p>在这一刻，维伦纽瓦已经成功地实现了《沙丘》对原作小说第一部的改编闭环。从整个剧情来说，这当然只是一个“引子”，是对后续更宏大、更激烈、更复杂斗争的开启。但是，系列电影的创作，却不能停留在“连续剧”式的高度上，而应该做到各自独立的完整闭环。只有这样，它才能够被看作是一部符合电影标准的作品，而不是有头无尾的片段。而作为系列，各部作品中完成表达的主题，在整个系列的架构之中递进、作用，形成对更高主题的引导。做到这一点，才是优秀的“电影系列”。</p><p>而至少从这部《沙丘》来看，维伦纽瓦找到了最佳的独立主题方向，紧紧围绕着“救世主”，并由此引出具象环节的“反抗，革命”元素。保罗对“救世主”命运从被动抗拒到主动接受的过程，构成了电影以他内心为主的表达，也让内心感受成为了影片主要的内在驱动力。虽然保罗的“救世”还有没落实到行为，但当他以耶稣的姿态出现在弗雷曼的面前时，这部作品的独立表达，已经在他主动接受救世主命运的时候，彻底地完成了。</p><figure data-size=\"normal\"><noscript><img src=\"https://pic3.zhimg.com/50/v2-a8d8ecdc68d653d51a673dd38e4ef028_720w.jpg?source=1940ef5c\" data-rawwidth=\"863\" data-rawheight=\"480\" data-size=\"normal\" data-default-watermark-src=\"https://pic2.zhimg.com/50/v2-0a707e6e8c5dbd256679d1c926d2b68b_720w.jpg?source=1940ef5c\" class=\"origin_image zh-lightbox-thumb\" width=\"863\" data-original=\"https://pic1.zhimg.com/v2-a8d8ecdc68d653d51a673dd38e4ef028_r.jpg?source=1940ef5c\"/></noscript><img src=\"data:image/svg+xml;utf8,&lt;svg xmlns=&#39;http://www.w3.org/2000/svg&#39; width=&#39;863&#39; height=&#39;480&#39;&gt;&lt;/svg&gt;\" data-rawwidth=\"863\" data-rawheight=\"480\" data-size=\"normal\" data-default-watermark-src=\"https://pic2.zhimg.com/50/v2-0a707e6e8c5dbd256679d1c926d2b68b_720w.jpg?source=1940ef5c\" class=\"origin_image zh-lightbox-thumb lazy\" width=\"863\" data-original=\"https://pic1.zhimg.com/v2-a8d8ecdc68d653d51a673dd38e4ef028_r.jpg?source=1940ef5c\" data-actualsrc=\"https://pic3.zhimg.com/50/v2-a8d8ecdc68d653d51a673dd38e4ef028_720w.jpg?source=1940ef5c\"/></figure><p>维伦纽瓦为它赋予了极强的宏大感。帝国文明那冰冷感十足、不带有任何温度的建筑、城市、巨大的机械，结合着其中同样冰冷的礼节、规矩。而另一方面，弗雷曼人的漫漫黄沙，鳞次栉比的岩石缝隙，虫子扬起的漫天尘土，沙土造就的地下隧道，则与部落装扮的弗雷曼一起。而大量的远景，进一步加强了这两种宏大场景的极端对比。而imax，则更将这种宏大的对比做到了极致中的极致。</p><p>同时，汉斯季默负责的音乐，也同样追求宏大。帝国文明在严整之中的凛冽、阴森，弗雷曼人的信奉、虔诚，与画面结合，都得到了饱满的氛围加持。最明显的，便是弗雷曼线人被杀的一幕——巨大的黄沙场景中，弗雷曼人虔诚地敲击着沙漠地表，任由巨虫吞没自己，“回归自然”，而音乐的圣歌齐唱，让他对自然的唯一信奉更加升华。</p><p>感谢imax，才让维伦纽瓦基于场景之宏大的主题表达，得到了效果的升级。当沙虫的头颅以巨幕的形式，格外巨大地呈现出来时，原始自然压倒一切的力量，将以无比直观的形式传达出来。</p><figure data-size=\"normal\"><noscript><img src=\"https://pic2.zhimg.com/50/v2-68419f6108730fb9074d85aa774258ae_720w.jpg?source=1940ef5c\" data-rawwidth=\"647\" data-rawheight=\"430\" data-size=\"normal\" data-default-watermark-src=\"https://pic3.zhimg.com/50/v2-793426dd4b4b04adcb6d3fc6ef36f8a3_720w.jpg?source=1940ef5c\" class=\"origin_image zh-lightbox-thumb\" width=\"647\" data-original=\"https://pic1.zhimg.com/v2-68419f6108730fb9074d85aa774258ae_r.jpg?source=1940ef5c\"/></noscript><img src=\"data:image/svg+xml;utf8,&lt;svg xmlns=&#39;http://www.w3.org/2000/svg&#39; width=&#39;647&#39; height=&#39;430&#39;&gt;&lt;/svg&gt;\" data-rawwidth=\"647\" data-rawheight=\"430\" data-size=\"normal\" data-default-watermark-src=\"https://pic3.zhimg.com/50/v2-793426dd4b4b04adcb6d3fc6ef36f8a3_720w.jpg?source=1940ef5c\" class=\"origin_image zh-lightbox-thumb lazy\" width=\"647\" data-original=\"https://pic1.zhimg.com/v2-68419f6108730fb9074d85aa774258ae_r.jpg?source=1940ef5c\" data-actualsrc=\"https://pic2.zhimg.com/50/v2-68419f6108730fb9074d85aa774258ae_720w.jpg?source=1940ef5c\"/></figure><p>《沙丘》电影版，肯定是与小说不尽相同的。但是，二者的契合点，发达、合理、却高高在上的社会体系的崩塌，发自于人性的原始力量对其的冲破“革命”，在维伦纽瓦将其赋予自身表达方向的情况下，依然存在。能够将如此艰深的作品“化作己用”，也正是维伦纽瓦改编这部作品的底气所在了。</p>\n",
            "<p>一部 如果出自中国导演之手、充满亚洲面孔 一定会被唾沫星子淹死的电影。</p>\n",
            "<p>刚刚看完电影，没看过原著，只看过一些解读，影评和背景科普，下面就当下这个时代，仅这部电影，说下我的感受</p><p>之前非常期待，因为很多影评都说这是2021年最值得期待的「科幻」神作，在巨幕厅的视觉效果的确非常棒，里面恢弘的建筑、飞船、粗糙古朴的设计和一些未来的科技元素糅合在一起形成的复古科幻风格也很合胃口，可以说每一帧cut下来都可以当作壁纸</p><p>但是，几乎所有影评都在吹宏大的世界观，硬核的逻辑，深刻的哲理，烧脑的剧情。。。完全没有感受到；</p><p>首先庞大的世界观，我的理解不是说你把场地扩大到全宇宙，你的世界观就宏大了，世界观所体现的应该是眼界与格局，而沙丘里面的基础故事背景，像不像星际版的「十字军东征」呢？教皇为了夺回圣城，当然更加重要的是占领通往东方的贸易重镇，以及从各国王领主手上收回权利而占领了耶路撒冷，之后十字军国家的领主做大后，教宗又通过阴谋手段来促使他们内耗（看的时间有点久了，可能有些不太准确，但大体上是这种感觉），而且当时中东阿拉伯人控制的地区最重要的贸易，也是「香料」，弗雷曼人，整个装扮，到五官肤色，像不像阿拉伯人呢？还有「姐妹会」，通过培养拥有超能力的人，安插到个派贵族势力里面当老婆或者小妾，有真言能力能让人言听计从，还有专门负责散播「迷信」的部门，咋这么像「兄弟会」？培养吸收志同道合的人，安插到个金融政治实体中，背后窜通阴谋控制世界，还能用「钞」能力让人听话，也在到处散布消息对人民洗脑；</p><p>硬核逻辑的烧脑剧情，讲真，可能是我狭隘了，但这剧情哪儿烧脑？里面的政治阴谋有回答说得好，在中国人看来就是幼儿园级别的，然后就是间谍医生，夜间偷袭，保罗九死一生渐渐成长，来到弗雷曼人领地，只是不断穿插梦境，而梦境并不对故事主线产生影响，最多也就是最后，蜘蛛侠的小女友成了保罗的「梦中情人」；</p><p>还有说电影里的哲理深刻，可能是文化差异，没有感觉，电影里充斥着神秘主义，宿命论，你说人脑计算机，真言，这些「超能力」就当是剧情需要的设定没问题，但这种上来就保罗是天选之子，有各种神迹和通灵感应啥的，未免有点老套，对，西方故事的老套，这些对受共产主义和无神论熏陶长大的我来说，没有共鸣，也没有新鲜感；</p><p>还有些细节设定，比如一万年后打仗是像古惑仔一样毫无阵法的拿刀对砍，虽然个人觉得为了一个护盾的设定，而选择冷兵器打仗有点不值当，权当是为了剧情需要也不深究了，但杀人镖这种黑科技，就不能控制距离做大一点来打仗？非得近身肉搏一命换一命，可能一万年以后人比镖便宜吧；</p><p>我发现高赞的回答都是把电影吹得相当天花乱坠，但打开评论又开始怼得不可开交，可就一个点，多年前不少公知在吹嘘欧美影视作品时，都会附带怼上一句中国的影视形象都是单一脸谱化的，没有国外作品那样展现了人性的复杂多面，可就在沙丘里面，光头族是不是一看就是坏人？保罗族是不是一看就正义且睿智，弗雷曼人是不是一看就是单纯，但神神叨叨，弱小但是又干不掉？敢不敢再脸谱化一点；</p><p>再说说「沙虫」，广东人拿来打火锅，福建人拿来做土笋冻，跑题了。。。西方的故事里面一般都会有一个「超自然」的存在，这个存在不代表正义，不代表邪恶，它只要你敬畏与臣服。</p><p>总结来说，《沙丘》视效震撼，画面绝美，但设定老套，就是一个披着科幻外衣的中世纪故事；</p><hr/><p>对了，我在沙虫攻击采矿机，保罗他爹舍命救矿工那里睡着了，你们呢？</p>\n",
            "<p>看完后就：</p><p>王侯将相，宁有种乎？</p><p>沙丘是一个科幻外壳的哈姆雷特或者权力游戏</p><p>这类剧本质上是王子复仇剧</p><p>主角还是各种光环：做梦预言，擅长格斗，宗教光环等等</p><p>就像权力的游戏前几季是讲得史塔克家族怎么被毁灭一样，沙丘这第一步讲的是<a href=\"https://www.zhihu.com/search?q=%E5%8E%84%E5%B4%94%E8%BF%AA&amp;search_source=Entity&amp;hybrid_search_source=Entity&amp;hybrid_search_extra=%7B%22sourceType%22%3A%22answer%22%2C%22sourceId%22%3A2184462421%7D\" class=\"internal\">厄崔迪</a>家族怎么被毁灭，无数人因为主角而死</p><p>实在想不出，都111世纪了，皇帝还在研究怎么对付下面的侯爵，怎么还有皇帝？</p><p>这故事后面都能预判：王子带领当地土著复仇成功，重造家族，给沙丘土著带去了…</p><p>这个故事还有个反殖民的思考，倒是有点像阿拉伯的劳伦斯，如果真的反殖民，不如把贵族让黑人来演，白人去沙丘上当土著「狗头」</p><p>对了把沙丘上的香料换成石油，沙丘上的老百姓换成中东难民，没毛病</p><p>所以：王侯将相宁有种乎？</p><p>反殖民的思考一定要贵族来做吗？</p><p>我倒想看那个开局吐了一口口水的当地首领成为主角，反抗一波一波的侵略者建立自己的家园</p>\n",
            "<p>不结合原著看，体验极差。</p><p>结合原著看的话，你会发现除了械斗那部分，其他部分还原度确实高。</p><p class=\"ztext-empty-paragraph\"><br/></p><p>但是原著的历史局限性非常大，这下半部里一堆儿戏、残暴、政治不正确的玩意，不改一改估计是要被喷烂。</p><p>而且电影差不多正好拍了第一部的一半多一点……单看电影这个part.1的话，基本等于只讲了“王子复仇”王道剧情的前半部分就戛然而止，被猫眼路人喷到8.0这个接近不及格的分倒也正常。</p><p class=\"ztext-empty-paragraph\"><br/></p><p>而且这械斗放科幻里真的太出戏了。</p><p>尤其是台阶上那一段亚崔迪步兵那个十八罗汉玩法，然后萨杜卡空输直接不讲武德空投到亚崔迪步兵后面举刀砍——让我有一种罗马军团+谢尔曼坦克的生草感。</p><p>也别拿屏蔽场硬洗，原著里亚崔迪士兵和哈肯尼士兵都有过装备激光枪的描述，哈肯尼连爆炸火炮都用过。</p><p>决斗就算了，战斗场景也强行拍成械斗，我只能说是编剧理解有问题。</p><p></p>\n",
            "自问自答，笑哭……花了四十八小时在课堂上看完了后面三百页。（以后要可能的话谈谈心得吧）<br/><br/>【详细故事简介预警！！！！！后附个人阅读心得】<br/>—————————————————————————<figure><noscript><img src=\"https://pic3.zhimg.com/50/v2-1403b19fc2c3a9a9337e081e624b516c_720w.jpg?source=1940ef5c\" data-rawwidth=\"1080\" data-rawheight=\"356\" class=\"origin_image zh-lightbox-thumb\" width=\"1080\" data-original=\"https://pic2.zhimg.com/v2-1403b19fc2c3a9a9337e081e624b516c_r.jpg?source=1940ef5c\"/></noscript><img src=\"data:image/svg+xml;utf8,&lt;svg xmlns=&#39;http://www.w3.org/2000/svg&#39; width=&#39;1080&#39; height=&#39;356&#39;&gt;&lt;/svg&gt;\" data-rawwidth=\"1080\" data-rawheight=\"356\" class=\"origin_image zh-lightbox-thumb lazy\" width=\"1080\" data-original=\"https://pic2.zhimg.com/v2-1403b19fc2c3a9a9337e081e624b516c_r.jpg?source=1940ef5c\" data-actualsrc=\"https://pic3.zhimg.com/50/v2-1403b19fc2c3a9a9337e081e624b516c_720w.jpg?source=1940ef5c\"/></figure><br/><br/>《沙丘》  故事简介<br/><br/><br/>第一卷 沙丘 ：<br/><br/>        故事背景是仿佛中世纪一样的遥远未来，那里的「帕迪沙」皇帝依靠古老的帝制统治着整个星系帝国，与之相对的还有两股强大的势力，垄断太空运输业拥有丰厚财力的宇航工会和分布在星系中相对独立的各诸侯大公。皇帝一直视实力强大的雷托•崔迪亚公爵为眼中钉，于是将他分封到边远的沙丘星球厄拉科斯，远离政治权力中心，并企图致公爵于死地。<br/>        雷托公爵奉皇帝之命前去接管神秘莫测却充满贵重香料的沙漠星球——厄拉科斯（沙丘），但占据厄拉科斯多年、掠夺香料聚集大量财富的哈克南人领主弗拉基米尔•哈克南男爵不愿放手巨额利益，更何况他与雷托公爵有着血海世仇。男爵于黑暗中铸造阴谋的利剑，随时准备刺向于此地尚未站稳脚跟的公爵。<br/>        另一方面，公爵与贝尼杰瑟里特爱姬 杰西卡共同的血亲之子、圣母院校预言中的魁萨茨哈德拉克先知——保罗，他从小在母亲那里接受“真言”与战斗训练，母亲杰西卡可以通过“真言”准确识别他人话语真伪与强制或者心理暗示命令他人。<br/>        保罗通过了圣母的生死考验，当他随家人与军队来到厄拉科斯时，时常会梦到一些未来的场景。他在协助父亲处理事务中迅速成长，期待着将来能独当一面。公爵在沙丘星球上救助被巨大的地居生物沙虫所袭击采料场的工人，其部下「门泰特」刺客杜菲•哈瓦特与外交官邓肯等慢慢深入厄拉科斯的土著居民弗雷曼人族群，希冀能与之合作共抗哈克南人。<br/>        男爵突袭公爵战斗的那天晚上，皇帝的强悍卫队「萨多卡」配合哈克南军队围攻公爵。奸细岳医生却放走了杰西卡和保罗。岳医生制服雷托公爵，打算与男爵做交易换回自己的妻子，并做二手准备，打算在预计换不回妻子时与公爵男爵共赴黄泉——谁知男爵幸运地躲过一劫。公爵遗孀杰西卡携孤子保罗在沙漠中逃亡，保罗开启血脉，清楚地知晓了母亲是男爵女儿的事，他冷漠地成为穆阿迪布——弗雷曼人传说中的先知救世主，在踏上集结父亲旧部的路上，渴求复仇时机到来……<br/><br/>第二卷 穆阿迪布 ：<br/><br/>        保罗和母亲杰西卡在沙漠中亡命游荡，偶遇行星生态学家凯恩斯和弗雷曼人，在哈克南人追击到来后，他舍命保护了母子俩。两人来到弗雷曼人的领地，部落首领斯第尔格震惊于他们高超的格斗技巧，保罗与母亲用此和沙丘圣母传说征服众人，并且保罗在公平决斗中杀死了一名不服气的弗雷曼战士，在部落考验与仪式完成后众望所归地分别成为穆阿迪布先知和萨亚迪娜圣母。后来保罗娶了凯恩斯的女儿契尼，开始建立自己的力量。<br/>        哈克南男爵看中的继承人菲德-罗萨在认为自己被杰西卡背叛的「门泰特」杜菲•哈瓦特的帮助下，在哈克南男爵决斗场中获得了极高的声誉，为实现自己的野望一步步前进。另外，哈克南男爵与帝国使者芬伦伯爵在谈话中暴露了双方的不信任。哈克南人妄图取代皇帝，皇帝也时刻提防着男爵。帝国内忧外患初显。<br/><br/>第三卷 先知 ：<br/><br/>        菲德-罗萨与男爵内讧争权之时，厄拉科斯的新统治者哈克南人拉班更加横征暴敛，屠戮弗雷曼人。帝国统治者帕迪沙皇帝的萨多卡军团也虎视眈眈，沙丘星球矛盾一触即发。<br/>        杰西卡生下了托雷公爵的遗腹子、保罗的妹妹厄莉娅，厄莉娅由于母亲在怀她时接受圣母考验，不仅拥有母亲极其历代先人的记忆，并且类似保罗一样能先知先觉。保罗在成为弗雷曼人领导者的同时也学会了驾驭沙虫的技能，其威望如日中天。 他在沙漠中收复了沦为走私徒的父亲旧部——哥尼•哈莱特，弗雷曼各部凝聚在保罗麾下，沙丘中响应的力量将掀起一场巨大变革。<br/>        帕迪沙皇帝联合各方势力御驾亲征厄拉科斯，在一场风暴中残酷的决战开始了，保罗失去了自己的儿子，皇帝的萨多卡军团大败，哈克南男爵也被厄莉娅刺杀，弗雷曼部落大获全胜。哈瓦特保持自己对公爵家族的忠心，在衰老中死在保罗怀里。在与皇帝的谈判中，香料的秘密被公开：沙虫生产的香料可以为宇航员提供注视前方安全航线的能力，人类如果失去香料，星际交通会瘫痪。保罗以彻底毁灭香料相威胁，并且在与决斗中杀死了菲德-罗萨。战斗结束后，保罗为了登上皇位、平息各方纷争，正式迎娶了伊勒琅公主。<br/><br/>【沙丘六部曲】第一部（读客版）梗概，以上。<br/><br/><figure><noscript><img src=\"https://pic3.zhimg.com/50/v2-64bdaf94c581c3a64a62c827d58b81c9_720w.jpg?source=1940ef5c\" data-rawwidth=\"303\" data-rawheight=\"438\" class=\"content_image\" width=\"303\"/></noscript><img src=\"data:image/svg+xml;utf8,&lt;svg xmlns=&#39;http://www.w3.org/2000/svg&#39; width=&#39;303&#39; height=&#39;438&#39;&gt;&lt;/svg&gt;\" data-rawwidth=\"303\" data-rawheight=\"438\" class=\"content_image lazy\" width=\"303\" data-actualsrc=\"https://pic3.zhimg.com/50/v2-64bdaf94c581c3a64a62c827d58b81c9_720w.jpg?source=1940ef5c\"/></figure><br/>回到《沙丘》系列小说本身，故事的发生地『厄拉科斯』是一个特色鲜明的沙漠星球，像《海伯利安》四部曲中有着神秘莫测的传奇时光“生物”伯劳的海伯利安星球，像《银河帝国》中谢顿为避祸选择延续人类香火的偏僻端点星，这三部鸿篇巨制都是以自身细致的虚构出让人神往的星球为舞台，进而通过一个个性格立体的人物，故事离奇曲折的描写，内涵丰富的意蕴意象，拓展出自己的世界观价值观哲学观。读者在随作者漫游各色美妙异景，领略不同风土人情的同时，移情于小说，寄情于虚幻，于苍缈星空中寻求到独属于自己的慰藉。<br/><br/> 《沙丘》显然做到了。 <br/><br/> 长篇巨著的优点是可塑格局大，人物也能写很多，这本六百页的大部头却不太一样，登场的人物能让人记住名字的，即使我写了梗概，我现在也记不得十个。仔细分析原因，除去神神叨叨的对白，大段大段模糊的意象幻想描写，发现剩下的情节几乎是单线发展，〖到沙丘〗→〖叛变战斗〗→〖逃亡〗→〖集合力量〗→〖决战〗。小说的背景和关键情节是通过人物对话来一步步展开的，一开始勒伊琅公主每节开头的先知日记，更是主角传奇故事与生活哲学的小小脚注，我还以为这是啥厉害的大伏笔，谁知仅仅真的是脚注……所以不喜欢这部书的人有很多，太过神神叨叨，不像科幻，像个神棍小说。<br/><br/> 我发现一个有意思的现象，美国现在科幻奇幻不分家了，用克拉克的话说，技术发展到极致就是神话。这话啥意思呢，比如，你拿着手电筒回到古代，如果你不对古人解释手电筒的技术内涵（虽然你解释了 他们可能还是不懂……），他们会认为这是魔法神迹。奇幻科幻不分家，他们最大的区别不是写黑魔法还是写黑科技，而是其技术内核，而技术内核可以伪装成魔法的外衣。美国人认识到了这一点，所以科幻奇幻常常一起授奖，国内还陷入软硬科幻的区分不能自拔，也许是因为从小接受唯物主义教育的因故吧，国内大家更偏爱【硬】科幻小说，对一些人文的、细致的、哲学的软科幻概括为［不像科幻小说的啰嗦、无趣的神棍故事］，显然是对《沙丘》这类书的误解误读。<br/><br/> 我说不出这书有啥特别厉害的地方，但有些描写却很动人心魄，医生的叛变、保罗驯服沙虫、杰西卡的通灵，以及印象最深刻的：哈克南男爵的初次登场与其门泰特的对话，虽然是商量要人命的阴谋，却有些莫名的搞笑……<br/><br/> 初读有点看不进去，后面就好了（发现所有的高分外国书都这样…难道是外国书阅读综合恐惧症…？），美国人对《沙丘》系列小说有宗教狂热般的喜爱，我虽然没有这么喜爱这部小说，但对其也算得上印象独特。<br/><br/> 总之这书还不错，每一部经典的科幻自有其魅力，希望大家阅读愉快。<br/><br/>期待后面五部曲的发展！<br/><br/><br/><br/><br/><figure><noscript><img src=\"https://pica.zhimg.com/50/v2-1b174f9b90943fa096f3afc1e7f490e1_720w.jpg?source=1940ef5c\" data-rawwidth=\"640\" data-rawheight=\"1138\" class=\"origin_image zh-lightbox-thumb\" width=\"640\" data-original=\"https://pic1.zhimg.com/v2-1b174f9b90943fa096f3afc1e7f490e1_r.jpg?source=1940ef5c\"/></noscript><img src=\"data:image/svg+xml;utf8,&lt;svg xmlns=&#39;http://www.w3.org/2000/svg&#39; width=&#39;640&#39; height=&#39;1138&#39;&gt;&lt;/svg&gt;\" data-rawwidth=\"640\" data-rawheight=\"1138\" class=\"origin_image zh-lightbox-thumb lazy\" width=\"640\" data-original=\"https://pic1.zhimg.com/v2-1b174f9b90943fa096f3afc1e7f490e1_r.jpg?source=1940ef5c\" data-actualsrc=\"https://pica.zhimg.com/50/v2-1b174f9b90943fa096f3afc1e7f490e1_720w.jpg?source=1940ef5c\"/></figure>\n",
            "<p>从来没有读过沙丘，据说极为难懂的但却又非常重要的科幻小说。<br/>作为一个伪科幻迷，特长就是看电影然后找书迷详解分析给我看。在多年之后才能看懂一部分内容。</p><p>因为我不喜欢去看翻译过来的（干过一点翻译，知道离开原来土壤的就失去了原来文字的内涵，比如一个马马虎虎搞的一个英文视频，大家聊天说中国人没有歧视黑人的，我们很喜欢黑这个字...那个黑人最后调侃说了一个你们也很喜欢black tea，翻译过来是红茶，在中文里面体现出来的，完全就是无厘头逻辑混乱）</p><p>回到主题。英文太大部头了，我就投机取巧，通过英文其他途径了解。所以虽然没看过书。但还是很喜欢这个作品。大概就是因为费解才变成费翔。呵呵呵</p><p>对我来说，这个作品真正的意义是拓宽改造自己的视野。我们的文化基因里面，是没有宗教，三权分立，殖民，石油，海盗等系列的历史观。其他的虽然有过，比如国王之间的联姻。还有同级贵族之间政治联姻等等。早在夏商周春秋战国时期，是有王国之间的联姻，秦晋之好，秦楚盟约的。但这种相当于两个国王睡一张床，夫妻双方都是在同等条件下互斗互联的历史文化，在秦朝以后，一步步被后来的新格局，大浪淘洗干净了。以至于我们都完全不明白楚国势力在秦政权中的地位。不能理解为什么楚王就有一统江山的正统性，如同，不明白为什么唐太宗要娶隋朝的公主，还那么宠爱他们的孩子......这些东西，看不见了，就像我们看不见了远古传说，却又总会发现一些说不通的“断壁残垣”。</p><p>我们绵延不绝的“文化”，是经过深思熟虑筛选出来的，是为自身稳定发展建设服务的。人们不断地需要新故事来说服自己和社会，赋予某种做法的权威性。由于历史上，我们的自给自足，不需要和其他文化大幅度的交流与合作来生存发展，所以对别人的生活文化都充满不屑，常常一带而过。但对于，文化单一农耕文明的生态，去了解其他外面的文明是危险的。因为你会质疑自己，会有选择恐惧症。</p><p>但如果能够迈过这个阶段，从达尔文的角度来看人类文明，就需要去寻找和了解人类在其他环境中的其他解决方案。</p><p>一开始试图理解他们的人文历史部分，就会觉得非常晦涩难懂。而借用科幻的外壳，（沙丘）给了我们一个极佳的故事视觉。它让我们可以把“已知”的设定，把自己敝帚自珍，“已知”杯子里的水倒空，才能去品味“它”文明的意义，去慢慢品味他们异域风情的同时，开始了解甚至推理它文明进步中，各种底层文化的架构，以及架构的原因意义。</p><p class=\"ztext-empty-paragraph\"><br/></p><p>首先了解一下文化背景:</p><p>1.东印度公司在英国政治中的角色。</p><p>2. 海盗文化在英国历史上的地位。</p><p>3. 是西药，从毒品到聪明药，在英文里的用词都是drug. 考虑一下从巫术里讲究通灵的草药，到推动工业革命中提高人类注意力产品的贸易如烟草，咖啡，糖，茶叶等交易，以及现代人类对石油能源的成瘾状态。在推波助澜下，作者结合了两种物质的特性，假设了一种能够帮助人类穿越宇宙的同类物质，吸食多了，它可以让人有瞬间看到将来事态发展的能力。这种能力的大小，可预知的时长，随着吸入的多少而不同。如同石油瘾，它对各个权利起着生死存亡的作用。而对唯一的生产地沙丘的明争暗斗就在这种有可预见性的背景下展开了。</p><p>4. 在各个势力角逐的时候，在大多数势力都有短期的可预见性，这就让这场博弈变得极为复杂了。这个时候，预见未来的时长就成为博弈胜负的关键了。其实就是下棋的思维：即在同等条件下，你可以看到的步数比对方多一点，你的胜算就比对手高一点。</p><p>5. 嗑药嗑出个变异体。文中有一群贸易商会的，属于嗑药磕出的变异体，有着超凡的预见能力，但男主人公保罗在沙丘里住着，开发出了超长待机的预见，即他能预见的未来比所有人的能力都强很多，而且对手后来也都知道保罗这个强悍的能力。因为他无需不间断的大量嗑药，预见波长比别人都长出很多，以至于其他老百姓都自动调节认知，认证他为新圣主。但如果忽略对保罗的预言，纠其原因，保罗能力的出现，还是他住在沙丘，他的被动和主动嗑药嗑的太多了，他妹妹更是如此，就是一个基因突变儿。(虽然是胡说，但是的确让人联想到了另一个科幻小说～少数派报告。毕竟远古时代的巫师们神神叨叨跳大神的样子，也大多数是嗑药时嗑出来的。)</p><p>看了一下其他答案，发现故事情节的几个主要点，都没有被提及。感觉大家的体会，和我小时候看战争与和平的感觉一样。只能提出来战争与和平里面的几个爱情故事情节，而对其他文化历史符号非常无感。</p><p>里面有一个重要设定： 就是需要横跨宇宙的星际旅行中，需要一个叫“香料”的药物，来帮助人类顺利实现宇宙穿梭。这个香料的功能就是提前预知未来。短的可能是几分钟，长的可能是几个月。吸食的愈多，预测未来的越大越细越准确。从而能够及时调整操作，避免陨石。而这个“香料”，只产于一个沙漠般的星球—-—沙丘。没有香料，就没有办法进行星际航行，整个帝国也不复存在。</p><p>这里面有一个悖论是在第一部书里看不到的。剧透一下，就是沙丘是怎么生产出来香料的，开始是无人知晓的。但因为干旱少水，当地人生活艰苦，文章还细节想象了了一个缺水星球的生态系统。</p><p>后来当地人秘密自助组织发现了一个可以让自然环境变好的方法，彻底解决雨水问题。而却遭到管理系统的残酷打压。大家以为是因为他们想要通过水源控制当地人，从而控制香料。</p><p>但后面的文章解释了这个看起来很残酷的逻辑关系：沙丘里面的沙虫是香料生产的关键（虽然一开始没有人知道具体的生产关系是什么样的），而一旦沙漠绿洲化，沙虫就会死亡消失殆尽，香料供应就会断了，连带着是宇宙交通断裂，个个星球回到原来的孤立状态，所以沙丘星球上的殖民统治者不容许沙丘变好。现在看起来，是不是很像是在讲中东地区的石油在国际化大生产中的地位呢？</p><p>第二部分其他人没有讲的就是女系文化遗产。</p><p>在宗教皇权贵族的三权交叉政治互相挟制中。有一个类似女书文化，传承千万年的女性宗教或者是秘密传承的组织。这个有点类似神秘的光明会。但传承是依照血缘来传承的。向来只能由女儿通过女性进行传承。成年后，能够瞬间接受万年以来，所有生存过的所有女性的历史记忆。而当文章男主拥有同样的力量之后，就完全改写了利益各方的利益平衡点。</p><p>虽然，表面看起来，好像是女巫文化。但人类粒子研究也发现，我们只能选择用女性基因粒子来追随人类进化历史，知道人类有一个共享的非洲老祖母。而无法通过男性的粒子传承这种信息。</p><p>还有一个胜过三体面壁思想的有趣数学模型软科幻体体系。就是比拼预测未来。其实就是下棋双方互相预判可能性的节奏。段数不一样的就有不同的预判步数。阿尔法狗的例子可以证明有了人工智能就不存在这些超能力的博弈，从而由其产生的政治博弈消失，而作为生产预测能力的香料，那种史无前例的必要性就没有了。因此，小说在一开始就把计算机系统捣毁了。</p><p>暂时就这样吧</p><p>想起其他的再来填补</p><p></p><p></p>\n",
            "<p>题主的困惑并不奇怪。《沙丘》是世界观作品，整个系列长于俯瞰全貌的雄美，“失”之于框架过大，故事性完全湮没在沙海奇景以及神秘意识形态中了。不过创世本身就是一种魅力，丝毫不逊于挖掘人生；聚沙成塔和庖丁解牛同样牛逼，只不过不一定符合读者对传统故事起承转合的期待。</p><p>跟《魔戒》、《安珀志》等用细节充当血肉的架空小说不同，《沙丘》其实并不怎么堆砌设定（没有打补丁似的滥用设定）。小说中有不少生造名词，一部分能在现实中找到对应（如弗雷曼人、浮空器），一部分跟着世界观揭示自行解开（如贝尼·杰瑟里特），但无论哪一种，在正文中都少见讲解性的文字。这种『搭好骨架、让种子自己生根发芽』的写法与前者事无巨细的方式相映成趣，但都十分考验作者的底蕴。单论对“世界”随意拿捏的能力，也足够让《沙丘》跻身黄金时代经典之列。</p><p>小说每一小节开头、伊勒琅公主的笔记给作品风格定下了基调：这是一部带有传记性质的编年史。小说着眼处在节点，若果说发生在厄拉科斯星球的这段传奇是一串项链，那么作者把珍珠挑给你看，而对于串联的丝线则有意隐去——这是符合记史气质的：因为『发生XX事件』，所以『产生XX结果』，名义上只是记录历史，所以主观成分浓厚的过程就被作者克制的抹去了。题主感觉小说里的阴谋肤浅、人物逻辑奇怪，其原因正在于此，也是前文所说的，不符合我们所习惯的起承转合的叙述方式。</p><p>那《沙丘》是不是就没有细节了呢？也不是。在构建世界观的重要支柱上，小说称得上结构精巧，前后遥相呼应。譬如小说后半段的重要章节之一——保罗驾驭造物主（沙虫），前文就多次给出线索，如巨大身躯上的人影，列特死前遗失的钩锁等等；还有香料的作用，也可以早早从弗雷曼人的瞳色以及宇航公会的执着中窥探一二。其中“列特”这个设定特别有意思，小说用一个叙事诡计，让读者误认为这个名词是弗雷曼人的信仰之源（神），到中期才揭露谜底：其实这是厄拉科斯首席行星学家的名字：<b>列特-凯恩斯</b>。这个小技巧看似毫无作用，但无疑在潜默移化中给读者灌输了一个『带有强烈宗教性质的部族』的印象。而沙丘这座参天大厦，正是靠着这些潜默移化搭起来的。</p><p>有意思的是，虽然弗兰克-赫伯特对“大事件”之外的情节克制而冷静，但对节点的描写丝毫不吝啬笔墨，显得相当煽情。书中角色心理活动丰富，每一次的抉择和困境都带着灵魂拷问般的纠结，让我在阅读的过程中总能体会到一种与全书史诗氛围相斥的割裂感觉，颇为精神分裂。不过这种割裂感到底让这本小说还是显出几分小说味道来了。</p><p>最后关于“科幻”元素。我引用原文中的一段，并仔细体会所描述的宇宙图景：</p><blockquote>“注视前方安全航线的眼睛将永远闭上，”保罗说，“宇航公会的人会变成瞎子。<b>人类将被分成小群，困在他们各自与世隔绝的星球上。</b>”</blockquote><p>这一句话的科幻浓度足以击败99%的科幻小说。</p>\n",
            "<p>应该是“过时了”的科幻作品。毕竟，科幻小说、科幻电影等文艺作品不同于其它类型的文艺作品，它有个“时限性”的要求，毕竟科技日新月异，人类社会发展今时不同往日，几十年前的科幻作品以今人的口味品味和眼光来看，可能真的是“过时了”。</p>\n",
            "<p>1965年出版的《沙丘》曾于1984年被导演大卫•林奇搬上银幕，可惜评论界对这部电影的评价并不高。大卫•林奇的诡异风格配合上原著太空歌剧的剧情，外加80年代的特摄技术，使得成片像是冰淇淋加老干妈一般，无不透露着一股尴尬的气氛，质量堪称一场摄制事故，大卫•林奇本人也对电影的最终剪辑权颇有微词。如果一定要从影像角度去感受原著的话，可能另外两部电影——《上帝的使者》和《阿拉伯的劳伦斯》——更能展现原著的故事内核，毕竟这是一部关于先知与叛乱的小说。</p><p class=\"ztext-empty-paragraph\"><br/></p><p>我们从主角穆阿迪布（保罗•厄崔迪）身上看到了穆圣的影子。他接受了启示，率领自己的信众进行了一次漫长的伊吉拉特，最终返回了自己的龙兴之地麦加。作为厄崔迪人，他离开了自己的母星卡拉丹，义无反顾地投入到支援厄拉克斯原住民反抗殖民帝国的事业中，像沙漠之民那样生活和战斗，赢得了人们的尊敬和信任，堪称“弗雷曼的厄崔迪”。一群由奴隶和囚犯组成的大军，在质朴刚健、武德充沛的蛮族面前根本就不堪一击。先知了却了家族血仇，而弗雷曼人的吉哈德现在才正要开始。</p><p class=\"ztext-empty-paragraph\"><br/></p><p>科幻、魔幻、奇幻，重点在于一个“幻”字，与绝大多数的科魔奇小说一样，即使是再怎么天马行空的幻想，也不可能脱离作者的个人阅历以及他对世界的认知图景。例如教学胶片，人们能够在宇宙间航行，却依然使用这样的介质来存储信息。掌握着已知宇宙空间的星际帝国，其运输能力却要仰赖于一个类似于威尼斯、热那亚商人的宇航公会。故事发生的地点，抛开那层若即若离的科幻外衣，可以毫无违和感地移植到不列颠治下的爱尔兰或紧邻拜占庭边疆的阿拉伯半岛。而故事本身则只是司空见惯的、发生在封建秩序下的王子复仇记。</p><p class=\"ztext-empty-paragraph\"><br/></p><p>因此，科幻小说的关注点应当在于其故事内核。西方科幻小说只要揭开那层包裹在外面的科学、宇宙的表象，就一定能看到她天启宗教的内核。个体是渺小的，而宇宙（造物主、上帝）则是远远无法以人的智慧来揣度的。单就对宗教神话的使用来说，《沙丘》并不如稍晚于其后出版的《光明王》（罗杰·泽拉兹尼著）那样令人惊艳，后者将印度教与佛教的神话化用到自身的故事中，印度教与佛教的教义之争与故事的主题无缝衔接。</p><p class=\"ztext-empty-paragraph\"><br/></p><p>在这一点上，《沙丘》无论是对伊斯兰教创教经过的影射，还是对阿拉伯的劳伦斯故事的借鉴，都差强人意。至少在这部开篇之作中，我们只看到对一个个预言的应验，但这些预言本身与主线剧情的关系则是非常生硬的，我们始终不能明白这种宗教的意识形态是如何在人们的心中发挥作用。当公爵一家登陆厄拉克斯的那一刻起，主角所做的一切都只是去完成一个“自我实现的预言”。在阅读的过程中，笔者始终期待着转折，然而直到最后都没有发生。小说就是一部小说，属于文学创作，我们毕竟不是在真的撰写某个伟人的生平事迹。</p>\n"
          ]
        }
      ]
    },
    {
      "cell_type": "code",
      "metadata": {
        "id": "03L0KZ0ve2JE"
      },
      "source": [
        ""
      ],
      "execution_count": 111,
      "outputs": []
    }
  ]
}