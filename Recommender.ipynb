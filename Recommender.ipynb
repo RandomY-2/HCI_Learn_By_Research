{
  "nbformat": 4,
  "nbformat_minor": 0,
  "metadata": {
    "colab": {
      "name": "Recommender.ipynb",
      "provenance": []
    },
    "kernelspec": {
      "display_name": "Python 3",
      "name": "python3"
    },
    "language_info": {
      "name": "python"
    }
  },
  "cells": [
    {
      "cell_type": "code",
      "metadata": {
        "colab": {
          "base_uri": "https://localhost:8080/"
        },
        "id": "RkTf5OpdQF1w",
        "outputId": "1004e83f-47f0-430d-ba16-316de4258b3f"
      },
      "source": [
        "!pip install beautifulsoup4 lxml requests"
      ],
      "execution_count": null,
      "outputs": [
        {
          "output_type": "stream",
          "name": "stdout",
          "text": [
            "Requirement already satisfied: beautifulsoup4 in /usr/local/lib/python3.7/dist-packages (4.6.3)\n",
            "Requirement already satisfied: lxml in /usr/local/lib/python3.7/dist-packages (4.2.6)\n",
            "Requirement already satisfied: requests in /usr/local/lib/python3.7/dist-packages (2.23.0)\n",
            "Requirement already satisfied: chardet<4,>=3.0.2 in /usr/local/lib/python3.7/dist-packages (from requests) (3.0.4)\n",
            "Requirement already satisfied: urllib3!=1.25.0,!=1.25.1,<1.26,>=1.21.1 in /usr/local/lib/python3.7/dist-packages (from requests) (1.24.3)\n",
            "Requirement already satisfied: certifi>=2017.4.17 in /usr/local/lib/python3.7/dist-packages (from requests) (2021.10.8)\n",
            "Requirement already satisfied: idna<3,>=2.5 in /usr/local/lib/python3.7/dist-packages (from requests) (2.10)\n"
          ]
        }
      ]
    },
    {
      "cell_type": "code",
      "metadata": {
        "id": "8Ai2hLMDu9tA"
      },
      "source": [
        "import pandas as pd\n",
        "import numpy as np\n",
        "from sklearn.feature_extraction.text import CountVectorizer\n",
        "from sklearn.metrics.pairwise import cosine_similarity\n",
        "\n",
        "from bs4 import BeautifulSoup\n",
        "import requests\n",
        "import time\n",
        "import os\n"
      ],
      "execution_count": null,
      "outputs": []
    },
    {
      "cell_type": "code",
      "metadata": {
        "id": "Ww8DpPV1vyVx"
      },
      "source": [
        "def get_title_from_index(df, index):\n",
        "\treturn df[df.index == index][\"title\"].values[0]\n",
        "\n",
        "def get_index_from_title(df, title):\n",
        "\treturn df[df.title.str.lower() == title][\"index\"].values[0]"
      ],
      "execution_count": null,
      "outputs": []
    },
    {
      "cell_type": "code",
      "metadata": {
        "colab": {
          "base_uri": "https://localhost:8080/",
          "height": 1000
        },
        "id": "cnoO0XIrzOSO",
        "outputId": "45ce6712-ff07-4ad2-c92f-69d3706ae1b4"
      },
      "source": [
        "movie_data = pd.read_csv('movie_dataset.csv')\n",
        "print(movie_data.info())\n",
        "movie_data.head()"
      ],
      "execution_count": null,
      "outputs": [
        {
          "output_type": "stream",
          "name": "stdout",
          "text": [
            "<class 'pandas.core.frame.DataFrame'>\n",
            "RangeIndex: 4803 entries, 0 to 4802\n",
            "Data columns (total 24 columns):\n",
            " #   Column                Non-Null Count  Dtype  \n",
            "---  ------                --------------  -----  \n",
            " 0   index                 4803 non-null   int64  \n",
            " 1   budget                4803 non-null   int64  \n",
            " 2   genres                4775 non-null   object \n",
            " 3   homepage              1712 non-null   object \n",
            " 4   id                    4803 non-null   int64  \n",
            " 5   keywords              4391 non-null   object \n",
            " 6   original_language     4803 non-null   object \n",
            " 7   original_title        4803 non-null   object \n",
            " 8   overview              4800 non-null   object \n",
            " 9   popularity            4803 non-null   float64\n",
            " 10  production_companies  4803 non-null   object \n",
            " 11  production_countries  4803 non-null   object \n",
            " 12  release_date          4802 non-null   object \n",
            " 13  revenue               4803 non-null   int64  \n",
            " 14  runtime               4801 non-null   float64\n",
            " 15  spoken_languages      4803 non-null   object \n",
            " 16  status                4803 non-null   object \n",
            " 17  tagline               3959 non-null   object \n",
            " 18  title                 4803 non-null   object \n",
            " 19  vote_average          4803 non-null   float64\n",
            " 20  vote_count            4803 non-null   int64  \n",
            " 21  cast                  4760 non-null   object \n",
            " 22  crew                  4803 non-null   object \n",
            " 23  director              4773 non-null   object \n",
            "dtypes: float64(3), int64(5), object(16)\n",
            "memory usage: 900.7+ KB\n",
            "None\n"
          ]
        },
        {
          "output_type": "execute_result",
          "data": {
            "text/html": [
              "<div>\n",
              "<style scoped>\n",
              "    .dataframe tbody tr th:only-of-type {\n",
              "        vertical-align: middle;\n",
              "    }\n",
              "\n",
              "    .dataframe tbody tr th {\n",
              "        vertical-align: top;\n",
              "    }\n",
              "\n",
              "    .dataframe thead th {\n",
              "        text-align: right;\n",
              "    }\n",
              "</style>\n",
              "<table border=\"1\" class=\"dataframe\">\n",
              "  <thead>\n",
              "    <tr style=\"text-align: right;\">\n",
              "      <th></th>\n",
              "      <th>index</th>\n",
              "      <th>budget</th>\n",
              "      <th>genres</th>\n",
              "      <th>homepage</th>\n",
              "      <th>id</th>\n",
              "      <th>keywords</th>\n",
              "      <th>original_language</th>\n",
              "      <th>original_title</th>\n",
              "      <th>overview</th>\n",
              "      <th>popularity</th>\n",
              "      <th>production_companies</th>\n",
              "      <th>production_countries</th>\n",
              "      <th>release_date</th>\n",
              "      <th>revenue</th>\n",
              "      <th>runtime</th>\n",
              "      <th>spoken_languages</th>\n",
              "      <th>status</th>\n",
              "      <th>tagline</th>\n",
              "      <th>title</th>\n",
              "      <th>vote_average</th>\n",
              "      <th>vote_count</th>\n",
              "      <th>cast</th>\n",
              "      <th>crew</th>\n",
              "      <th>director</th>\n",
              "    </tr>\n",
              "  </thead>\n",
              "  <tbody>\n",
              "    <tr>\n",
              "      <th>0</th>\n",
              "      <td>0</td>\n",
              "      <td>237000000</td>\n",
              "      <td>Action Adventure Fantasy Science Fiction</td>\n",
              "      <td>http://www.avatarmovie.com/</td>\n",
              "      <td>19995</td>\n",
              "      <td>culture clash future space war space colony so...</td>\n",
              "      <td>en</td>\n",
              "      <td>Avatar</td>\n",
              "      <td>In the 22nd century, a paraplegic Marine is di...</td>\n",
              "      <td>150.437577</td>\n",
              "      <td>[{\"name\": \"Ingenious Film Partners\", \"id\": 289...</td>\n",
              "      <td>[{\"iso_3166_1\": \"US\", \"name\": \"United States o...</td>\n",
              "      <td>2009-12-10</td>\n",
              "      <td>2787965087</td>\n",
              "      <td>162.0</td>\n",
              "      <td>[{\"iso_639_1\": \"en\", \"name\": \"English\"}, {\"iso...</td>\n",
              "      <td>Released</td>\n",
              "      <td>Enter the World of Pandora.</td>\n",
              "      <td>Avatar</td>\n",
              "      <td>7.2</td>\n",
              "      <td>11800</td>\n",
              "      <td>Sam Worthington Zoe Saldana Sigourney Weaver S...</td>\n",
              "      <td>[{'name': 'Stephen E. Rivkin', 'gender': 0, 'd...</td>\n",
              "      <td>James Cameron</td>\n",
              "    </tr>\n",
              "    <tr>\n",
              "      <th>1</th>\n",
              "      <td>1</td>\n",
              "      <td>300000000</td>\n",
              "      <td>Adventure Fantasy Action</td>\n",
              "      <td>http://disney.go.com/disneypictures/pirates/</td>\n",
              "      <td>285</td>\n",
              "      <td>ocean drug abuse exotic island east india trad...</td>\n",
              "      <td>en</td>\n",
              "      <td>Pirates of the Caribbean: At World's End</td>\n",
              "      <td>Captain Barbossa, long believed to be dead, ha...</td>\n",
              "      <td>139.082615</td>\n",
              "      <td>[{\"name\": \"Walt Disney Pictures\", \"id\": 2}, {\"...</td>\n",
              "      <td>[{\"iso_3166_1\": \"US\", \"name\": \"United States o...</td>\n",
              "      <td>2007-05-19</td>\n",
              "      <td>961000000</td>\n",
              "      <td>169.0</td>\n",
              "      <td>[{\"iso_639_1\": \"en\", \"name\": \"English\"}]</td>\n",
              "      <td>Released</td>\n",
              "      <td>At the end of the world, the adventure begins.</td>\n",
              "      <td>Pirates of the Caribbean: At World's End</td>\n",
              "      <td>6.9</td>\n",
              "      <td>4500</td>\n",
              "      <td>Johnny Depp Orlando Bloom Keira Knightley Stel...</td>\n",
              "      <td>[{'name': 'Dariusz Wolski', 'gender': 2, 'depa...</td>\n",
              "      <td>Gore Verbinski</td>\n",
              "    </tr>\n",
              "    <tr>\n",
              "      <th>2</th>\n",
              "      <td>2</td>\n",
              "      <td>245000000</td>\n",
              "      <td>Action Adventure Crime</td>\n",
              "      <td>http://www.sonypictures.com/movies/spectre/</td>\n",
              "      <td>206647</td>\n",
              "      <td>spy based on novel secret agent sequel mi6</td>\n",
              "      <td>en</td>\n",
              "      <td>Spectre</td>\n",
              "      <td>A cryptic message from Bond’s past sends him o...</td>\n",
              "      <td>107.376788</td>\n",
              "      <td>[{\"name\": \"Columbia Pictures\", \"id\": 5}, {\"nam...</td>\n",
              "      <td>[{\"iso_3166_1\": \"GB\", \"name\": \"United Kingdom\"...</td>\n",
              "      <td>2015-10-26</td>\n",
              "      <td>880674609</td>\n",
              "      <td>148.0</td>\n",
              "      <td>[{\"iso_639_1\": \"fr\", \"name\": \"Fran\\u00e7ais\"},...</td>\n",
              "      <td>Released</td>\n",
              "      <td>A Plan No One Escapes</td>\n",
              "      <td>Spectre</td>\n",
              "      <td>6.3</td>\n",
              "      <td>4466</td>\n",
              "      <td>Daniel Craig Christoph Waltz L\\u00e9a Seydoux ...</td>\n",
              "      <td>[{'name': 'Thomas Newman', 'gender': 2, 'depar...</td>\n",
              "      <td>Sam Mendes</td>\n",
              "    </tr>\n",
              "    <tr>\n",
              "      <th>3</th>\n",
              "      <td>3</td>\n",
              "      <td>250000000</td>\n",
              "      <td>Action Crime Drama Thriller</td>\n",
              "      <td>http://www.thedarkknightrises.com/</td>\n",
              "      <td>49026</td>\n",
              "      <td>dc comics crime fighter terrorist secret ident...</td>\n",
              "      <td>en</td>\n",
              "      <td>The Dark Knight Rises</td>\n",
              "      <td>Following the death of District Attorney Harve...</td>\n",
              "      <td>112.312950</td>\n",
              "      <td>[{\"name\": \"Legendary Pictures\", \"id\": 923}, {\"...</td>\n",
              "      <td>[{\"iso_3166_1\": \"US\", \"name\": \"United States o...</td>\n",
              "      <td>2012-07-16</td>\n",
              "      <td>1084939099</td>\n",
              "      <td>165.0</td>\n",
              "      <td>[{\"iso_639_1\": \"en\", \"name\": \"English\"}]</td>\n",
              "      <td>Released</td>\n",
              "      <td>The Legend Ends</td>\n",
              "      <td>The Dark Knight Rises</td>\n",
              "      <td>7.6</td>\n",
              "      <td>9106</td>\n",
              "      <td>Christian Bale Michael Caine Gary Oldman Anne ...</td>\n",
              "      <td>[{'name': 'Hans Zimmer', 'gender': 2, 'departm...</td>\n",
              "      <td>Christopher Nolan</td>\n",
              "    </tr>\n",
              "    <tr>\n",
              "      <th>4</th>\n",
              "      <td>4</td>\n",
              "      <td>260000000</td>\n",
              "      <td>Action Adventure Science Fiction</td>\n",
              "      <td>http://movies.disney.com/john-carter</td>\n",
              "      <td>49529</td>\n",
              "      <td>based on novel mars medallion space travel pri...</td>\n",
              "      <td>en</td>\n",
              "      <td>John Carter</td>\n",
              "      <td>John Carter is a war-weary, former military ca...</td>\n",
              "      <td>43.926995</td>\n",
              "      <td>[{\"name\": \"Walt Disney Pictures\", \"id\": 2}]</td>\n",
              "      <td>[{\"iso_3166_1\": \"US\", \"name\": \"United States o...</td>\n",
              "      <td>2012-03-07</td>\n",
              "      <td>284139100</td>\n",
              "      <td>132.0</td>\n",
              "      <td>[{\"iso_639_1\": \"en\", \"name\": \"English\"}]</td>\n",
              "      <td>Released</td>\n",
              "      <td>Lost in our world, found in another.</td>\n",
              "      <td>John Carter</td>\n",
              "      <td>6.1</td>\n",
              "      <td>2124</td>\n",
              "      <td>Taylor Kitsch Lynn Collins Samantha Morton Wil...</td>\n",
              "      <td>[{'name': 'Andrew Stanton', 'gender': 2, 'depa...</td>\n",
              "      <td>Andrew Stanton</td>\n",
              "    </tr>\n",
              "  </tbody>\n",
              "</table>\n",
              "</div>"
            ],
            "text/plain": [
              "   index  ...           director\n",
              "0      0  ...      James Cameron\n",
              "1      1  ...     Gore Verbinski\n",
              "2      2  ...         Sam Mendes\n",
              "3      3  ...  Christopher Nolan\n",
              "4      4  ...     Andrew Stanton\n",
              "\n",
              "[5 rows x 24 columns]"
            ]
          },
          "metadata": {},
          "execution_count": 19
        }
      ]
    },
    {
      "cell_type": "code",
      "metadata": {
        "id": "0rHd81K5v0xj"
      },
      "source": [
        "features = ['keywords', 'cast', 'genres', 'director']\n",
        "\n",
        "for feature in features:\n",
        "  movie_data[feature] = movie_data[feature].fillna('')\n",
        "\n",
        "movie_data['combine_sentence'] = movie_data['keywords'] + ' ' + movie_data['cast'] + ' ' + movie_data['genres'] + ' ' + movie_data['director']\n",
        "\n",
        "cv = CountVectorizer()\n",
        "count_matrix = cv.fit_transform(movie_data['combine_sentence'])"
      ],
      "execution_count": null,
      "outputs": []
    },
    {
      "cell_type": "code",
      "metadata": {
        "colab": {
          "base_uri": "https://localhost:8080/"
        },
        "id": "3UqqJ5il9ECJ",
        "outputId": "8be5c866-2639-45de-e6aa-adb701b3da6c"
      },
      "source": [
        "test = ['London London Paris', 'Paris Paris London', 'LA Paris']\n",
        "test_matrix = cv.fit_transform(test)\n",
        "print(test_matrix.toarray())"
      ],
      "execution_count": null,
      "outputs": [
        {
          "output_type": "stream",
          "name": "stdout",
          "text": [
            "[[0 2 1]\n",
            " [0 1 2]\n",
            " [1 0 1]]\n"
          ]
        }
      ]
    },
    {
      "cell_type": "code",
      "metadata": {
        "id": "6cYL1avVz_N9"
      },
      "source": [
        "cosine_sim = cosine_similarity(count_matrix)"
      ],
      "execution_count": null,
      "outputs": []
    },
    {
      "cell_type": "code",
      "metadata": {
        "colab": {
          "base_uri": "https://localhost:8080/"
        },
        "id": "Cgpxf5Xev3qo",
        "outputId": "74c12417-f22e-44c0-b15b-3de42963b1ee"
      },
      "source": [
        "movie_recommendations = []\n",
        "\n",
        "print(\"Enter a movie you like: \")\n",
        "movie_user_likes = input(\"\")\n",
        "movie_user_likes = movie_user_likes.lower()\n",
        "movie_index = get_index_from_title(movie_data, movie_user_likes)\n",
        "\n",
        "similar_movies = list(enumerate(cosine_sim[movie_index]))\n",
        "sorted_list = sorted(similar_movies, key=lambda x: x[1], reverse=True)\n",
        "\n",
        "print()\n",
        "print(\"Perhaps you like these movies: \")\n",
        "i = 0\n",
        "for movie in sorted_list:\n",
        "  if get_title_from_index(movie_data, movie[0]).lower() != movie_user_likes:\n",
        "    movie_recommendations.append(get_title_from_index(movie_data, movie[0]))\n",
        "    print(get_title_from_index(movie_data, movie[0]))\n",
        "  i = i + 1\n",
        "  if i > 10:\n",
        "    break\n",
        "print(\"\")"
      ],
      "execution_count": null,
      "outputs": [
        {
          "output_type": "stream",
          "name": "stdout",
          "text": [
            "Enter a movie you like: \n",
            "Alien\n",
            "\n",
            "Perhaps you like these movies: \n",
            "Aliens\n",
            "Alien³\n",
            "Moonraker\n",
            "Planet of the Apes\n",
            "Avatar\n",
            "Gravity\n",
            "Jason X\n",
            "The Helix... Loaded\n",
            "Alien: Resurrection\n",
            "The Thing\n",
            "\n"
          ]
        }
      ]
    },
    {
      "cell_type": "code",
      "metadata": {
        "id": "l1t6hYH3IMb4"
      },
      "source": [
        "def get_zhihu_urls(movie):\n",
        "  response = requests.get('https://www.google.com/search?q=' + movie + '+site%3Azhihu.com&oq=' + movie + '+site%3Azhihu.com&aqs=chrome..69i57.6845j0j7&sourceid=chrome&ie=UTF-8').text\n",
        "  soup = BeautifulSoup(response, 'lxml')\n",
        "  \n",
        "  zhihu_urls = []\n",
        "  for a in soup.find_all('a', href=True):\n",
        "    if ('zhihu.com/question/' in a['href']) and \\\n",
        "       ('img' not in a['href']) and \\\n",
        "       ('answer' not in a['href']):\n",
        "      zhihu_url = a['href'][7:].partition('&sa')[0]\n",
        "      zhihu_urls.append(zhihu_url)\n",
        "\n",
        "  return zhihu_urls"
      ],
      "execution_count": null,
      "outputs": []
    },
    {
      "cell_type": "code",
      "metadata": {
        "id": "Ilv0K7EzfvJk"
      },
      "source": [
        "def get_zhihu_question_answers(zhihu_question_id, answer_list):\n",
        "  headers = {\n",
        "    'accept': 'text/html,application/xhtml+xml,application/xml;q=0.9,image/webp,image/apng,*/*;q=0.8',\n",
        "    'user-agent': 'Mozilla/5.0 (Windows NT 10.0; WOW64) AppleWebKit/537.36 (KHTML, like Gecko) Chrome/68.0.3440.106 Safari/537.36',\n",
        "  }\n",
        "\n",
        "  answer_api = 'https://www.zhihu.com/api/v4/questions/' + zhihu_question_id + '/answers?include=content&limit=5&offset=5&platform=desktop&sort_by=default'\n",
        "  \n",
        "  response = requests.get(answer_api, headers=headers)\n",
        "\n",
        "  if len(response.json()['data']) == 0:\n",
        "    return\n",
        "\n",
        "  for answer in response.json()['data']:\n",
        "    answer_list.append(answer['content'])"
      ],
      "execution_count": null,
      "outputs": []
    },
    {
      "cell_type": "code",
      "metadata": {
        "colab": {
          "base_uri": "https://localhost:8080/"
        },
        "id": "cD6BxgVBdOlq",
        "outputId": "f493d5d1-144a-4dba-c924-d1023304684d"
      },
      "source": [
        "test_zhihu_urls = get_zhihu_urls('Spiderman')\n",
        "\n",
        "answer_list = []\n",
        "for url in test_zhihu_urls:\n",
        "  qid = url.partition('/question/')[2]\n",
        "  get_zhihu_question_answers(qid, answer_list)\n",
        "\n",
        "for answer in answer_list:\n",
        "  print(answer)\n",
        "\n",
        "f = open('test.html','w')\n",
        "\n",
        "message = \"\"\"<html>\n",
        "<head></head>\n",
        "<body>\"\"\" + answer_list[0] + \"\"\"</body>\n",
        "</html>\"\"\"\n",
        "\n",
        "f.write(message)\n",
        "f.close()"
      ],
      "execution_count": null,
      "outputs": [
        {
          "output_type": "stream",
          "name": "stdout",
          "text": [
            "<p>翻成蜘蛛侠是因为早期受武侠片影响吧 现在武侠片没那么流行就有点别扭了 我觉得还是翻成蜘蛛人比较好 一个美国英雄强行根武侠扯上关系很违和</p>\n",
            "spiderman不是应该翻译为失败的人吗？...\n",
            "<p>翻译讲究的是文达雅</p><p>当年国内美漫汉化组，也是先借鉴港台美漫汉化超英得名字。</p><p>随着时间的推移，一点点的演变成现在大家叫起来上口，听起来顺耳的名字</p><p>所以这就是先期汉化组功劳为大。然后官方也就直接使用起来了</p><p>最典型的就是死侍的翻译</p>\n",
            "<p>经评论区提醒，补充一个截图，关于“蜘蛛侠”的视频没找到（“xx才八年”的视频还是很好找的），大家自行判断。</p><figure data-size=\"normal\"><noscript><img src=\"https://pic1.zhimg.com/50/v2-a33c57b94c8224f794d1beccb69715dc_720w.jpg?source=1940ef5c\" data-rawwidth=\"469\" data-rawheight=\"324\" data-size=\"normal\" data-caption=\"\" data-default-watermark-src=\"https://pic1.zhimg.com/50/v2-b33757ee7096cdcd67d6006173fa49e4_720w.jpg?source=1940ef5c\" class=\"origin_image zh-lightbox-thumb\" width=\"469\" data-original=\"https://pic1.zhimg.com/v2-a33c57b94c8224f794d1beccb69715dc_r.jpg?source=1940ef5c\"/></noscript><img src=\"data:image/svg+xml;utf8,&lt;svg xmlns=&#39;http://www.w3.org/2000/svg&#39; width=&#39;469&#39; height=&#39;324&#39;&gt;&lt;/svg&gt;\" data-rawwidth=\"469\" data-rawheight=\"324\" data-size=\"normal\" data-caption=\"\" data-default-watermark-src=\"https://pic1.zhimg.com/50/v2-b33757ee7096cdcd67d6006173fa49e4_720w.jpg?source=1940ef5c\" class=\"origin_image zh-lightbox-thumb lazy\" width=\"469\" data-original=\"https://pic1.zhimg.com/v2-a33c57b94c8224f794d1beccb69715dc_r.jpg?source=1940ef5c\" data-actualsrc=\"https://pic1.zhimg.com/50/v2-a33c57b94c8224f794d1beccb69715dc_720w.jpg?source=1940ef5c\"/></figure><p>~~~~原回答~~~~</p><p>岛上有个人多年前曾经说过一些话，挺有趣的。</p><figure data-size=\"normal\"><noscript><img src=\"https://pic3.zhimg.com/50/v2-1055b17c4ede85bd24bdc2de420fb4a9_720w.jpg?source=1940ef5c\" data-rawwidth=\"1080\" data-rawheight=\"1382\" data-size=\"normal\" data-caption=\"\" data-default-watermark-src=\"https://pic1.zhimg.com/50/v2-bb457dc910c1b8eed64b94708ca43499_720w.jpg?source=1940ef5c\" class=\"origin_image zh-lightbox-thumb\" width=\"1080\" data-original=\"https://pic2.zhimg.com/v2-1055b17c4ede85bd24bdc2de420fb4a9_r.jpg?source=1940ef5c\"/></noscript><img src=\"data:image/svg+xml;utf8,&lt;svg xmlns=&#39;http://www.w3.org/2000/svg&#39; width=&#39;1080&#39; height=&#39;1382&#39;&gt;&lt;/svg&gt;\" data-rawwidth=\"1080\" data-rawheight=\"1382\" data-size=\"normal\" data-caption=\"\" data-default-watermark-src=\"https://pic1.zhimg.com/50/v2-bb457dc910c1b8eed64b94708ca43499_720w.jpg?source=1940ef5c\" class=\"origin_image zh-lightbox-thumb lazy\" width=\"1080\" data-original=\"https://pic2.zhimg.com/v2-1055b17c4ede85bd24bdc2de420fb4a9_r.jpg?source=1940ef5c\" data-actualsrc=\"https://pic3.zhimg.com/50/v2-1055b17c4ede85bd24bdc2de420fb4a9_720w.jpg?source=1940ef5c\"/></figure><p>我觉得翻译成什么名字，无非就看好不好听，适不适合大众的阅读习惯，在我个人看来“蚁人”比“蚂蚁侠”顺口一点，如果让我起名的话，我可能翻成“蚁侠”，吼吼吼，没办法，我就是这么土。</p><p>据说香港对迈克尔•乔丹的翻译是“米高•佐登”，音译，不存在问题。</p><p>杨女士的问题就是认为岛上天生就比咱高级，所以见到有关咱的一切都觉得“好tu”。</p><p>这是一种不懂得尊重别人的行为。</p><p>当然，台D又是另外一个问题了。</p><p>～～～～～</p><a data-draft-node=\"block\" data-draft-type=\"link-card\" href=\"https://www.zhihu.com/question/310070682/answer/656319888\" class=\"internal\">为什么装过屎的碗洗干净了也不会有人接着盛饭，而装屎很长时间的大肠却会被洗干净吃？</a><p></p>\n",
            "<p>翻译这事，很多翻译团体各自对作品与角色的理解都不同。</p><p>不光漫威，隔壁的DC也是一样的，你看看DC作品的汉化翻译</p><p>Superman翻译成超人</p><p>然而Batman就翻译成蝙蝠侠了</p><p>然后到了Aquaman又翻译成海王…</p>\n",
            "<p>因为语境语义的连贯性</p><p>美国都叫XXMAN</p><p>但是翻译成中文就有个高低语境的问题</p><p>比如说钢铁侠如果翻译成铁人，第一时间让人联想到的是拼命大油田</p><p>而蜘蛛侠如果翻译成蜘蛛人，第一时间让人想到的是杂技演员和建筑清洁工</p><p>并且“钢铁”“蜘蛛”“闪电（这是隔壁混进来的）”“蝙蝠”等等的意象本身，都有一定的攻击力或者神秘感，符合“侠”这个字带来的感情色彩</p><p>但你说“煎饼侠”，就，呃，对吧……</p><p>蚂蚁侠也类似，你想到蚂蚁，会想到啥？</p>\n",
            "<p>这个问题让我想到前段时间看到新闻说李冰冰要主演漫威首部中国女超级英雄电影《虎影侠》，豆瓣有人评论说，按照漫威的命名规律应该叫 tigerwoman 虎妞。   </p>\n",
            "<p>字面译的话……《熨斗男》 《三脚架男》《叉叉男》？</p>\n",
            "<p>《蜘蛛侠3：回家的诱惑》</p>\n",
            "<p>结合前两部(英雄归来&amp;英雄远征)的“英雄+动作”的译法，我比较倾向于<b>“英雄末路”</b>和“<b>英雄迷途</b>”。</p><p>而英文No Way Home有种山穷水尽的绝望感，“迷途”二字并没有很好的表达出来。</p><p>所以就<b>《蜘蛛侠3：英雄末路》</b>吧。</p>\n",
            "<h2>英雄之路：No Way Home（无家可归）</h2><p>我认为<b>No Way Home</b>更大的可能会和<b>中文标题产生互文。</b></p><p>前两部的中文译名，少不了<b>“英雄”</b>二字，第三部肯定也少不了。</p><p>就拿《你好，李焕英》来举例子，她的英文名是《Hi,MOM》，两者产生互文性<b>，</b>那么《蜘蛛侠3》也有可能如此。</p><p>No Way Home表达的是“无家可归”，是帕克成为一个<b>成熟的超英</b>，不得不面对的。</p><p>那么中文的标题，应该和“无家可归”互文，是一种“选择”，所以我的答案是：</p><blockquote><b>《蜘蛛侠3：英雄之路》</b></blockquote><p>因为笃定了做超级英雄，保护世界，所以就不能再当大家的邻家大男孩。</p><p><b>这是蜘蛛侠的选择，这是所有超级英雄的必经之路。</b></p>\n",
            "<p>前两部中文名分别是：英雄归来、英雄远征。似乎第三部中文名也脱不了“英雄”两字。</p><p>那就：<b>英雄失途</b>。</p><p>如果不用英雄二字，那就：<b>无路可退</b>。</p><p></p>\n",
            "<p>感谢邀请！</p><p>2017年《蜘蛛侠:英雄归来》</p><p>2019年《蜘蛛侠:英雄远征》</p><p>2021年 《蜘蛛侠:英雄X  X》</p><figure data-size=\"normal\"><noscript><img src=\"https://pic2.zhimg.com/50/v2-da6951e639fcbf4e352cacd1d59bfa7b_720w.jpg?source=1940ef5c\" data-rawwidth=\"442\" data-rawheight=\"359\" data-size=\"normal\" data-default-watermark-src=\"https://pic3.zhimg.com/50/v2-2f9c5d9ccf79d8b6181280e49ad7ca60_720w.jpg?source=1940ef5c\" class=\"origin_image zh-lightbox-thumb\" width=\"442\" data-original=\"https://pic3.zhimg.com/v2-da6951e639fcbf4e352cacd1d59bfa7b_r.jpg?source=1940ef5c\"/></noscript><img src=\"data:image/svg+xml;utf8,&lt;svg xmlns=&#39;http://www.w3.org/2000/svg&#39; width=&#39;442&#39; height=&#39;359&#39;&gt;&lt;/svg&gt;\" data-rawwidth=\"442\" data-rawheight=\"359\" data-size=\"normal\" data-default-watermark-src=\"https://pic3.zhimg.com/50/v2-2f9c5d9ccf79d8b6181280e49ad7ca60_720w.jpg?source=1940ef5c\" class=\"origin_image zh-lightbox-thumb lazy\" width=\"442\" data-original=\"https://pic3.zhimg.com/v2-da6951e639fcbf4e352cacd1d59bfa7b_r.jpg?source=1940ef5c\" data-actualsrc=\"https://pic2.zhimg.com/50/v2-da6951e639fcbf4e352cacd1d59bfa7b_720w.jpg?source=1940ef5c\"/></figure><p>一定是这样的排版，一定确定以及肯定！</p><p>如果不然，就失去了三部曲的名字的统一性而显得格格不入。</p><p>NO WAY HOME。no way 没门，无路，没有希望。home 家 原点 初心。</p><figure data-size=\"normal\"><noscript><img src=\"https://pica.zhimg.com/50/v2-411a802c066d0a03cf5b041bb33a5900_720w.jpg?source=1940ef5c\" data-rawwidth=\"489\" data-rawheight=\"335\" data-size=\"normal\" data-default-watermark-src=\"https://pica.zhimg.com/50/v2-c126550a0e7a49da23ac87c8467a05ac_720w.jpg?source=1940ef5c\" class=\"origin_image zh-lightbox-thumb\" width=\"489\" data-original=\"https://pic1.zhimg.com/v2-411a802c066d0a03cf5b041bb33a5900_r.jpg?source=1940ef5c\"/></noscript><img src=\"data:image/svg+xml;utf8,&lt;svg xmlns=&#39;http://www.w3.org/2000/svg&#39; width=&#39;489&#39; height=&#39;335&#39;&gt;&lt;/svg&gt;\" data-rawwidth=\"489\" data-rawheight=\"335\" data-size=\"normal\" data-default-watermark-src=\"https://pica.zhimg.com/50/v2-c126550a0e7a49da23ac87c8467a05ac_720w.jpg?source=1940ef5c\" class=\"origin_image zh-lightbox-thumb lazy\" width=\"489\" data-original=\"https://pic1.zhimg.com/v2-411a802c066d0a03cf5b041bb33a5900_r.jpg?source=1940ef5c\" data-actualsrc=\"https://pica.zhimg.com/50/v2-411a802c066d0a03cf5b041bb33a5900_720w.jpg?source=1940ef5c\"/></figure><p>根据过去两部的习惯也应该统一简化成两个字，归来 远征 然后呢？</p><p>而且还要有一定的悬念，让人看了会有疑问，带着问号去影院。</p><p>英雄归来？之前干嘛去了？啥时候回来的？</p><p>英雄远征？跑那么远干啥？近搏还办不了？</p><p>英雄xxxx？以后还怎么玩？会不会成终结？</p><p>于是乎我和 <a class=\"member_mention\" href=\"https://www.zhihu.com/people/11940b1b4188d67170946c549d09f1b3\" data-hash=\"11940b1b4188d67170946c549d09f1b3\" data-hovercard=\"p$b$11940b1b4188d67170946c549d09f1b3\">@Leepeng Young</a> 不谋而合，简化成两个字那就是「末路」。</p><p>排版相同，意境犹在，</p><p>充满悬疑，钓足胃口！</p><p><b>Spider-man 3: No Way Home！</b></p><h2>蜘蛛侠3:英雄末路！</h2><figure data-size=\"normal\"><noscript><img src=\"https://pica.zhimg.com/50/v2-c52f202012a7d23faf587c90bd131e05_720w.jpg?source=1940ef5c\" data-rawwidth=\"640\" data-rawheight=\"307\" data-size=\"normal\" data-default-watermark-src=\"https://pic1.zhimg.com/50/v2-4bb2f0617a9acaccbfa84db89b1b53e5_720w.jpg?source=1940ef5c\" class=\"origin_image zh-lightbox-thumb\" width=\"640\" data-original=\"https://pic1.zhimg.com/v2-c52f202012a7d23faf587c90bd131e05_r.jpg?source=1940ef5c\"/></noscript><img src=\"data:image/svg+xml;utf8,&lt;svg xmlns=&#39;http://www.w3.org/2000/svg&#39; width=&#39;640&#39; height=&#39;307&#39;&gt;&lt;/svg&gt;\" data-rawwidth=\"640\" data-rawheight=\"307\" data-size=\"normal\" data-default-watermark-src=\"https://pic1.zhimg.com/50/v2-4bb2f0617a9acaccbfa84db89b1b53e5_720w.jpg?source=1940ef5c\" class=\"origin_image zh-lightbox-thumb lazy\" width=\"640\" data-original=\"https://pic1.zhimg.com/v2-c52f202012a7d23faf587c90bd131e05_r.jpg?source=1940ef5c\" data-actualsrc=\"https://pica.zhimg.com/50/v2-c52f202012a7d23faf587c90bd131e05_720w.jpg?source=1940ef5c\"/></figure>\n"
          ]
        }
      ]
    },
    {
      "cell_type": "code",
      "metadata": {
        "colab": {
          "background_save": true
        },
        "id": "03L0KZ0ve2JE"
      },
      "source": [
        ""
      ],
      "execution_count": null,
      "outputs": []
    }
  ]
}